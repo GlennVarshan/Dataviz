{
 "cells": [
  {
   "cell_type": "code",
   "execution_count": 1,
   "metadata": {},
   "outputs": [],
   "source": [
    "import pandas as pd\n",
    "from datasets import load_dataset\n",
    "import seaborn as sns\n",
    "import matplotlib.pyplot as plt"
   ]
  },
  {
   "cell_type": "code",
   "execution_count": 2,
   "metadata": {},
   "outputs": [],
   "source": [
    "asr = pd.read_csv('Dataset(Jan-25)\\Amazon Sale Report.csv')\n",
    "cwc = pd.read_csv('Dataset(Jan-25)\\Cloud Warehouse Compersion Chart.csv')\n",
    "expense = pd.read_csv('Dataset(Jan-25)\\Expense IIGF.csv')\n",
    "isr = pd.read_csv('Dataset(Jan-25)/International sale Report.csv')\n",
    "may = pd.read_csv('Dataset(Jan-25)\\May-2022.csv')\n",
    "pl = pd.read_csv('Dataset(Jan-25)\\P  L March 2021.csv')\n",
    "sr = pd.read_csv('Dataset(Jan-25)\\Sale Report.csv')"
   ]
  },
  {
   "cell_type": "code",
   "execution_count": 3,
   "metadata": {},
   "outputs": [
    {
     "name": "stdout",
     "output_type": "stream",
     "text": [
      "(128975, 23)\n",
      "(50, 4)\n",
      "(17, 5)\n",
      "(37432, 10)\n",
      "(1330, 17)\n",
      "(1330, 18)\n",
      "(9271, 7)\n"
     ]
    }
   ],
   "source": [
    "print(asr.shape)\n",
    "print(cwc.shape)\n",
    "print(expense.shape)\n",
    "print(isr.shape)\n",
    "print(may.shape)\n",
    "print(pl.shape)\n",
    "print(sr.shape)"
   ]
  },
  {
   "cell_type": "markdown",
   "metadata": {},
   "source": [
    "PREPROCCESSING"
   ]
  },
  {
   "cell_type": "markdown",
   "metadata": {},
   "source": [
    "Dropping Duplicates"
   ]
  },
  {
   "cell_type": "code",
   "execution_count": 4,
   "metadata": {},
   "outputs": [
    {
     "data": {
      "text/html": [
       "<div>\n",
       "<style scoped>\n",
       "    .dataframe tbody tr th:only-of-type {\n",
       "        vertical-align: middle;\n",
       "    }\n",
       "\n",
       "    .dataframe tbody tr th {\n",
       "        vertical-align: top;\n",
       "    }\n",
       "\n",
       "    .dataframe thead th {\n",
       "        text-align: right;\n",
       "    }\n",
       "</style>\n",
       "<table border=\"1\" class=\"dataframe\">\n",
       "  <thead>\n",
       "    <tr style=\"text-align: right;\">\n",
       "      <th></th>\n",
       "      <th>index</th>\n",
       "      <th>Product_SKU</th>\n",
       "      <th>Design_Number</th>\n",
       "      <th>Stock_Level</th>\n",
       "      <th>Product_Category</th>\n",
       "      <th>Product_Size</th>\n",
       "      <th>Product_Color</th>\n",
       "    </tr>\n",
       "  </thead>\n",
       "  <tbody>\n",
       "    <tr>\n",
       "      <th>0</th>\n",
       "      <td>0</td>\n",
       "      <td>AN201-RED-L</td>\n",
       "      <td>AN201</td>\n",
       "      <td>5.0</td>\n",
       "      <td>AN : LEGGINGS</td>\n",
       "      <td>L</td>\n",
       "      <td>Red</td>\n",
       "    </tr>\n",
       "    <tr>\n",
       "      <th>1</th>\n",
       "      <td>1</td>\n",
       "      <td>AN201-RED-M</td>\n",
       "      <td>AN201</td>\n",
       "      <td>5.0</td>\n",
       "      <td>AN : LEGGINGS</td>\n",
       "      <td>M</td>\n",
       "      <td>Red</td>\n",
       "    </tr>\n",
       "    <tr>\n",
       "      <th>2</th>\n",
       "      <td>2</td>\n",
       "      <td>AN201-RED-S</td>\n",
       "      <td>AN201</td>\n",
       "      <td>3.0</td>\n",
       "      <td>AN : LEGGINGS</td>\n",
       "      <td>S</td>\n",
       "      <td>Red</td>\n",
       "    </tr>\n",
       "    <tr>\n",
       "      <th>3</th>\n",
       "      <td>3</td>\n",
       "      <td>AN201-RED-XL</td>\n",
       "      <td>AN201</td>\n",
       "      <td>6.0</td>\n",
       "      <td>AN : LEGGINGS</td>\n",
       "      <td>XL</td>\n",
       "      <td>Red</td>\n",
       "    </tr>\n",
       "    <tr>\n",
       "      <th>4</th>\n",
       "      <td>4</td>\n",
       "      <td>AN201-RED-XXL</td>\n",
       "      <td>AN201</td>\n",
       "      <td>3.0</td>\n",
       "      <td>AN : LEGGINGS</td>\n",
       "      <td>XXL</td>\n",
       "      <td>Red</td>\n",
       "    </tr>\n",
       "    <tr>\n",
       "      <th>...</th>\n",
       "      <td>...</td>\n",
       "      <td>...</td>\n",
       "      <td>...</td>\n",
       "      <td>...</td>\n",
       "      <td>...</td>\n",
       "      <td>...</td>\n",
       "      <td>...</td>\n",
       "    </tr>\n",
       "    <tr>\n",
       "      <th>9266</th>\n",
       "      <td>9266</td>\n",
       "      <td>NaN</td>\n",
       "      <td>NaN</td>\n",
       "      <td>NaN</td>\n",
       "      <td>NaN</td>\n",
       "      <td>NaN</td>\n",
       "      <td>NaN</td>\n",
       "    </tr>\n",
       "    <tr>\n",
       "      <th>9267</th>\n",
       "      <td>9267</td>\n",
       "      <td>NaN</td>\n",
       "      <td>NaN</td>\n",
       "      <td>NaN</td>\n",
       "      <td>NaN</td>\n",
       "      <td>NaN</td>\n",
       "      <td>NaN</td>\n",
       "    </tr>\n",
       "    <tr>\n",
       "      <th>9268</th>\n",
       "      <td>9268</td>\n",
       "      <td>NaN</td>\n",
       "      <td>NaN</td>\n",
       "      <td>NaN</td>\n",
       "      <td>NaN</td>\n",
       "      <td>NaN</td>\n",
       "      <td>NaN</td>\n",
       "    </tr>\n",
       "    <tr>\n",
       "      <th>9269</th>\n",
       "      <td>9269</td>\n",
       "      <td>NaN</td>\n",
       "      <td>NaN</td>\n",
       "      <td>NaN</td>\n",
       "      <td>NaN</td>\n",
       "      <td>NaN</td>\n",
       "      <td>NaN</td>\n",
       "    </tr>\n",
       "    <tr>\n",
       "      <th>9270</th>\n",
       "      <td>9270</td>\n",
       "      <td>NaN</td>\n",
       "      <td>NaN</td>\n",
       "      <td>NaN</td>\n",
       "      <td>NaN</td>\n",
       "      <td>NaN</td>\n",
       "      <td>NaN</td>\n",
       "    </tr>\n",
       "  </tbody>\n",
       "</table>\n",
       "<p>9271 rows × 7 columns</p>\n",
       "</div>"
      ],
      "text/plain": [
       "      index    Product_SKU Design_Number  Stock_Level Product_Category  \\\n",
       "0         0    AN201-RED-L         AN201          5.0    AN : LEGGINGS   \n",
       "1         1    AN201-RED-M         AN201          5.0    AN : LEGGINGS   \n",
       "2         2    AN201-RED-S         AN201          3.0    AN : LEGGINGS   \n",
       "3         3   AN201-RED-XL         AN201          6.0    AN : LEGGINGS   \n",
       "4         4  AN201-RED-XXL         AN201          3.0    AN : LEGGINGS   \n",
       "...     ...            ...           ...          ...              ...   \n",
       "9266   9266            NaN           NaN          NaN              NaN   \n",
       "9267   9267            NaN           NaN          NaN              NaN   \n",
       "9268   9268            NaN           NaN          NaN              NaN   \n",
       "9269   9269            NaN           NaN          NaN              NaN   \n",
       "9270   9270            NaN           NaN          NaN              NaN   \n",
       "\n",
       "     Product_Size Product_Color  \n",
       "0               L           Red  \n",
       "1               M           Red  \n",
       "2               S           Red  \n",
       "3              XL           Red  \n",
       "4             XXL           Red  \n",
       "...           ...           ...  \n",
       "9266          NaN           NaN  \n",
       "9267          NaN           NaN  \n",
       "9268          NaN           NaN  \n",
       "9269          NaN           NaN  \n",
       "9270          NaN           NaN  \n",
       "\n",
       "[9271 rows x 7 columns]"
      ]
     },
     "execution_count": 4,
     "metadata": {},
     "output_type": "execute_result"
    }
   ],
   "source": [
    "asr.drop_duplicates()\n",
    "cwc.drop_duplicates()\n",
    "expense.drop_duplicates()\n",
    "isr.drop_duplicates()\n",
    "may.drop_duplicates()\n",
    "pl.drop_duplicates()\n",
    "sr.drop_duplicates()"
   ]
  },
  {
   "cell_type": "code",
   "execution_count": 5,
   "metadata": {},
   "outputs": [
    {
     "name": "stdout",
     "output_type": "stream",
     "text": [
      "<class 'pandas.core.frame.DataFrame'>\n",
      "RangeIndex: 128975 entries, 0 to 128974\n",
      "Data columns (total 23 columns):\n",
      " #   Column                  Non-Null Count   Dtype  \n",
      "---  ------                  --------------   -----  \n",
      " 0   index                   128975 non-null  int64  \n",
      " 1   Order_ID                128975 non-null  object \n",
      " 2   Order_Date              128975 non-null  object \n",
      " 3   Order_Status            128975 non-null  object \n",
      " 4   Fulfillment_Type        128975 non-null  object \n",
      " 5   Sales_Channel           128975 non-null  object \n",
      " 6   Shipping_Service_Level  128975 non-null  object \n",
      " 7   Product_Style           128975 non-null  object \n",
      " 8   Product_SKU             128975 non-null  object \n",
      " 9   Product_Category        128975 non-null  object \n",
      " 10  Product_Size            128975 non-null  object \n",
      " 11  Amazon_Standard_ID      128975 non-null  object \n",
      " 12  Courier_Status          122103 non-null  object \n",
      " 13  Quantity                128975 non-null  int64  \n",
      " 14  Currency                121180 non-null  object \n",
      " 15  Sale_Amount             121180 non-null  float64\n",
      " 16  Shipping_City           128942 non-null  object \n",
      " 17  Shipping_State          128942 non-null  object \n",
      " 18  Shipping_Postal_Code    128942 non-null  float64\n",
      " 19  Shipping_Country        128942 non-null  object \n",
      " 20  Promotion_IDs           79822 non-null   object \n",
      " 21  Business_to_Business    128975 non-null  bool   \n",
      " 22  Fulfilled_By            39277 non-null   object \n",
      "dtypes: bool(1), float64(2), int64(2), object(18)\n",
      "memory usage: 21.8+ MB\n"
     ]
    }
   ],
   "source": [
    "asr.info()"
   ]
  },
  {
   "cell_type": "code",
   "execution_count": 6,
   "metadata": {},
   "outputs": [
    {
     "name": "stdout",
     "output_type": "stream",
     "text": [
      "<class 'pandas.core.frame.DataFrame'>\n",
      "RangeIndex: 37432 entries, 0 to 37431\n",
      "Data columns (total 10 columns):\n",
      " #   Column              Non-Null Count  Dtype \n",
      "---  ------              --------------  ----- \n",
      " 0   index               37432 non-null  int64 \n",
      " 1   Sale_Date           37431 non-null  object\n",
      " 2   Sale_Month          37407 non-null  object\n",
      " 3   Customer_Name       36392 non-null  object\n",
      " 4   Product_Style       36392 non-null  object\n",
      " 5   Product_SKU         34958 non-null  object\n",
      " 6   Product_Size        36392 non-null  object\n",
      " 7   Quantity_Purchased  36392 non-null  object\n",
      " 8   Price_per_Unit      36392 non-null  object\n",
      " 9   Gross_Amount        36392 non-null  object\n",
      "dtypes: int64(1), object(9)\n",
      "memory usage: 2.9+ MB\n"
     ]
    }
   ],
   "source": [
    "isr.info()"
   ]
  },
  {
   "cell_type": "markdown",
   "metadata": {},
   "source": [
    "FINDING UNIQUE VALUES IN COLUMNS TO IMPUTE OR DROP THEM"
   ]
  },
  {
   "cell_type": "code",
   "execution_count": 7,
   "metadata": {},
   "outputs": [
    {
     "data": {
      "text/plain": [
       "array([nan,\n",
       "       'Amazon PLCC Free-Financing Universal Merchant AAT-WNKTBO3K27EJC,Amazon PLCC Free-Financing Universal Merchant AAT-QX3UCCJESKPA2,Amazon PLCC Free-Financing Universal Merchant AAT-5QQ7BIYYQEDN2,Amazon PLCC Free-Financing Universal Merchant AAT-DSJ2QRXXWXVMQ,Amazon PLCC Free-Financing Universal Merchant AAT-CXJHMC2YJUK76,Amazon PLCC Free-Financing Universal Merchant AAT-CC4FAVTYR4X7C,Amazon PLCC Free-Financing Universal Merchant AAT-XXRCW6NZEPZI4,Amazon PLCC Free-Financing Universal Merchant AAT-CXNSLNBROFDW4,Amazon PLCC Free-Financing Universal Merchant AAT-R7GXNZWISTRFA,Amazon PLCC Free-Financing Universal Merchant AAT-WSJLDN3X7KEMO,Amazon PLCC Free-Financing Universal Merchant AAT-VL6FGQVGQVXUS,Amazon PLCC Free-Financing Universal Merchant AAT-EOKPWFWYW7Y6I,Amazon PLCC Free-Financing Universal Merchant AAT-ZYL5UPUNW6T62,Amazon PLCC Free-Financing Universal Merchant AAT-XVPICCHRWDCAI,Amazon PLCC Free-Financing Universal Merchant AAT-ETXQ3XXWMRXBG,Amazon PLCC Free-Financing Universal Merchant AAT-7X3XCTYG64VBE,Amazon PLCC Free-Financing Universal Merchant AAT-7CHGD3WTS3MHM,Amazon PLCC Free-Financing Universal Merchant AAT-26ZDKNME27X42,Amazon PLCC Free-Financing Universal Merchant AAT-4ZF5KN6E4LJK4,Amazon PLCC Free-Financing Universal Merchant AAT-7RCXIKUAX7DDY,Amazon PLCC Free-Financing Universal Merchant AAT-BRSZZ45H6MHAO,Amazon PLCC Free-Financing Universal Merchant AAT-MKLXOOZWQL7GO,Amazon PLCC Free-Financing Universal Merchant AAT-CB7UNXEXGIJTC,Amazon PLCC Free-Financing Universal Merchant #MP-gzasho-1593152694811,Amazon PLCC Free-Financing Universal Merchant AAT-WLBA4GZ52EAH4',\n",
       "       'IN Core Free Shipping 2015/04/08 23-48-5-108', ...,\n",
       "       'Amazon PLCC Free-Financing Universal Merchant AAT-WNKTBO3K27EJC,Amazon PLCC Free-Financing Universal Merchant AAT-QX3UCCJESKPA2,Amazon PLCC Free-Financing Universal Merchant AAT-5QQ7BIYYQEDN2,Amazon PLCC Free-Financing Universal Merchant AAT-DSJ2QRXXWXVMQ,Amazon PLCC Free-Financing Universal Merchant AAT-CXJHMC2YJUK76,Amazon PLCC Free-Financing Universal Merchant AAT-SL3Y2YRMAUNFC,Amazon PLCC Free-Financing Universal Merchant AAT-CC4FAVTYR4X7C,Amazon PLCC Free-Financing Universal Merchant AAT-EWAPBB6BDRGM6,Amazon PLCC Free-Financing Universal Merchant AAT-EOKPWFWYW7Y6I,Amazon PLCC Free-Financing Universal Merchant AAT-5ZEB2OGNZ32MC,Amazon PLCC Free-Financing Universal Merchant AAT-NT3ZJJGQ3JK3Q,Amazon PLCC Free-Financing Universal Merchant AAT-TNYBHEAO7HOHO,Amazon PLCC Free-Financing Universal Merchant AAT-BRSZZ45H6MHAO,Amazon PLCC Free-Financing Universal Merchant AAT-MKLXOOZWQL7GO,Amazon PLCC Free-Financing Universal Merchant AAT-CB7UNXEXGIJTC,Amazon PLCC Free-Financing Universal Merchant #MP-gzasho-1593152694811,Amazon PLCC Free-Financing Universal Merchant AAT-WLBA4GZ52EAH4,Amazon PLCC Free-Financing Universal Merchant AAT-QMFZ3M7T5NPDS,Amazon PLCC Free-Financing Universal Merchant #MP-pmilan-1601980554292',\n",
       "       'Amazon PLCC Free-Financing Universal Merchant AAT-WNKTBO3K27EJC,Amazon PLCC Free-Financing Universal Merchant AAT-QX3UCCJESKPA2,Amazon PLCC Free-Financing Universal Merchant AAT-5QQ7BIYYQEDN2,Amazon PLCC Free-Financing Universal Merchant AAT-DSJ2QRXXWXVMQ,Amazon PLCC Free-Financing Universal Merchant AAT-CXJHMC2YJUK76,Amazon PLCC Free-Financing Universal Merchant AAT-SL3Y2YRMAUNFC,Amazon PLCC Free-Financing Universal Merchant AAT-CC4FAVTYR4X7C,Amazon PLCC Free-Financing Universal Merchant AAT-EWAPBB6BDRGM6,Amazon PLCC Free-Financing Universal Merchant AAT-R7GXNZWISTRFA,Amazon PLCC Free-Financing Universal Merchant AAT-EOKPWFWYW7Y6I,Amazon PLCC Free-Financing Universal Merchant AAT-5ZEB2OGNZ32MC,Amazon PLCC Free-Financing Universal Merchant AAT-NT3ZJJGQ3JK3Q,Amazon PLCC Free-Financing Universal Merchant AAT-5SHH3G55USK5C,Amazon PLCC Free-Financing Universal Merchant AAT-BRSZZ45H6MHAO,Amazon PLCC Free-Financing Universal Merchant AAT-MKLXOOZWQL7GO,Amazon PLCC Free-Financing Universal Merchant AAT-CB7UNXEXGIJTC,Amazon PLCC Free-Financing Universal Merchant #MP-gzasho-1593152694811,Amazon PLCC Free-Financing Universal Merchant AAT-WLBA4GZ52EAH4',\n",
       "       'Amazon PLCC Free-Financing Universal Merchant AAT-WNKTBO3K27EJC,Amazon PLCC Free-Financing Universal Merchant AAT-QX3UCCJESKPA2,Amazon PLCC Free-Financing Universal Merchant AAT-5QQ7BIYYQEDN2,Amazon PLCC Free-Financing Universal Merchant AAT-DSJ2QRXXWXVMQ,Amazon PLCC Free-Financing Universal Merchant AAT-CXJHMC2YJUK76,Amazon PLCC Free-Financing Universal Merchant AAT-CC4FAVTYR4X7C,Amazon PLCC Free-Financing Universal Merchant AAT-EWAPBB6BDRGM6,Amazon PLCC Free-Financing Universal Merchant AAT-R7GXNZWISTRFA,Amazon PLCC Free-Financing Universal Merchant AAT-EOKPWFWYW7Y6I,Amazon PLCC Free-Financing Universal Merchant AAT-NT3ZJJGQ3JK3Q,Amazon PLCC Free-Financing Universal Merchant AAT-5SHH3G55USK5C,Amazon PLCC Free-Financing Universal Merchant AAT-TNYBHEAO7HOHO,Amazon PLCC Free-Financing Universal Merchant AAT-BRSZZ45H6MHAO,Amazon PLCC Free-Financing Universal Merchant AAT-MKLXOOZWQL7GO,Amazon PLCC Free-Financing Universal Merchant AAT-CB7UNXEXGIJTC,Amazon PLCC Free-Financing Universal Merchant #MP-gzasho-1593152694811,Amazon PLCC Free-Financing Universal Merchant AAT-WLBA4GZ52EAH4,Amazon PLCC Free-Financing Universal Merchant AAT-QMFZ3M7T5NPDS,Amazon PLCC Free-Financing Universal Merchant #MP-pmilan-1601980554292'],\n",
       "      dtype=object)"
      ]
     },
     "execution_count": 7,
     "metadata": {},
     "output_type": "execute_result"
    }
   ],
   "source": [
    "asr['Promotion_IDs'].unique()"
   ]
  },
  {
   "cell_type": "code",
   "execution_count": 8,
   "metadata": {},
   "outputs": [
    {
     "data": {
      "text/plain": [
       "array(['INR', nan], dtype=object)"
      ]
     },
     "execution_count": 8,
     "metadata": {},
     "output_type": "execute_result"
    }
   ],
   "source": [
    "asr['Currency'].unique() # impute nan to INR as it is nan because the orders are cancelled"
   ]
  },
  {
   "cell_type": "code",
   "execution_count": 9,
   "metadata": {},
   "outputs": [
    {
     "data": {
      "text/plain": [
       "array([nan, 'Shipped', 'Cancelled', 'Unshipped'], dtype=object)"
      ]
     },
     "execution_count": 9,
     "metadata": {},
     "output_type": "execute_result"
    }
   ],
   "source": [
    "asr['Courier_Status'].unique() #imputer nan to cancelled"
   ]
  },
  {
   "cell_type": "code",
   "execution_count": 10,
   "metadata": {},
   "outputs": [
    {
     "data": {
      "text/plain": [
       "array(['IN', nan], dtype=object)"
      ]
     },
     "execution_count": 10,
     "metadata": {},
     "output_type": "execute_result"
    }
   ],
   "source": [
    "asr['Shipping_Country'].unique() #drop nulls since there are only 33 values"
   ]
  },
  {
   "cell_type": "code",
   "execution_count": 11,
   "metadata": {},
   "outputs": [
    {
     "name": "stdout",
     "output_type": "stream",
     "text": [
      "Amount of missing values in asr: 161445\n",
      "Amount of missing values in cwc: 60\n",
      "Amount of missing values in Expense IIGF: 24\n",
      "Amount of missing values in International sales report: 8740\n",
      "Amount of missing values in may-2022: 0\n",
      "Amount of missing values in P L march: 0\n",
      "Amount of missing values in Sales report: 281\n"
     ]
    }
   ],
   "source": [
    "print(f\"Amount of missing values in asr: {asr.isnull().sum().sum()}\")\n",
    "print(f\"Amount of missing values in cwc: {cwc.isnull().sum().sum()}\")\n",
    "print(f\"Amount of missing values in Expense IIGF: {expense.isnull().sum().sum()}\")\n",
    "print(f\"Amount of missing values in International sales report: {isr.isnull().sum().sum()}\")\n",
    "print(f\"Amount of missing values in may-2022: {may.isnull().sum().sum()}\")\n",
    "print(f\"Amount of missing values in P L march: {pl.isnull().sum().sum()}\")\n",
    "print(f\"Amount of missing values in Sales report: {sr.isnull().sum().sum()}\")"
   ]
  },
  {
   "cell_type": "markdown",
   "metadata": {},
   "source": [
    "CLEANING AND FORMATING ASR"
   ]
  },
  {
   "cell_type": "code",
   "execution_count": 12,
   "metadata": {},
   "outputs": [
    {
     "name": "stdout",
     "output_type": "stream",
     "text": [
      "<class 'pandas.core.frame.DataFrame'>\n",
      "RangeIndex: 128975 entries, 0 to 128974\n",
      "Data columns (total 23 columns):\n",
      " #   Column                  Non-Null Count   Dtype  \n",
      "---  ------                  --------------   -----  \n",
      " 0   index                   128975 non-null  int64  \n",
      " 1   Order_ID                128975 non-null  object \n",
      " 2   Order_Date              128975 non-null  object \n",
      " 3   Order_Status            128975 non-null  object \n",
      " 4   Fulfillment_Type        128975 non-null  object \n",
      " 5   Sales_Channel           128975 non-null  object \n",
      " 6   Shipping_Service_Level  128975 non-null  object \n",
      " 7   Product_Style           128975 non-null  object \n",
      " 8   Product_SKU             128975 non-null  object \n",
      " 9   Product_Category        128975 non-null  object \n",
      " 10  Product_Size            128975 non-null  object \n",
      " 11  Amazon_Standard_ID      128975 non-null  object \n",
      " 12  Courier_Status          122103 non-null  object \n",
      " 13  Quantity                128975 non-null  int64  \n",
      " 14  Currency                121180 non-null  object \n",
      " 15  Sale_Amount             121180 non-null  float64\n",
      " 16  Shipping_City           128942 non-null  object \n",
      " 17  Shipping_State          128942 non-null  object \n",
      " 18  Shipping_Postal_Code    128942 non-null  float64\n",
      " 19  Shipping_Country        128942 non-null  object \n",
      " 20  Promotion_IDs           79822 non-null   object \n",
      " 21  Business_to_Business    128975 non-null  bool   \n",
      " 22  Fulfilled_By            39277 non-null   object \n",
      "dtypes: bool(1), float64(2), int64(2), object(18)\n",
      "memory usage: 21.8+ MB\n"
     ]
    }
   ],
   "source": [
    "asr.info()"
   ]
  },
  {
   "cell_type": "code",
   "execution_count": 13,
   "metadata": {},
   "outputs": [
    {
     "data": {
      "text/plain": [
       "index                         0\n",
       "Order_ID                      0\n",
       "Order_Date                    0\n",
       "Order_Status                  0\n",
       "Fulfillment_Type              0\n",
       "Sales_Channel                 0\n",
       "Shipping_Service_Level        0\n",
       "Product_Style                 0\n",
       "Product_SKU                   0\n",
       "Product_Category              0\n",
       "Product_Size                  0\n",
       "Amazon_Standard_ID            0\n",
       "Courier_Status             6872\n",
       "Quantity                      0\n",
       "Currency                   7795\n",
       "Sale_Amount                7795\n",
       "Shipping_City                33\n",
       "Shipping_State               33\n",
       "Shipping_Postal_Code         33\n",
       "Shipping_Country             33\n",
       "Promotion_IDs             49153\n",
       "Business_to_Business          0\n",
       "Fulfilled_By              89698\n",
       "dtype: int64"
      ]
     },
     "execution_count": 13,
     "metadata": {},
     "output_type": "execute_result"
    }
   ],
   "source": [
    "asr.isnull().sum()"
   ]
  },
  {
   "cell_type": "code",
   "execution_count": 14,
   "metadata": {},
   "outputs": [],
   "source": [
    "asr['Fulfilled_By'] =asr['Fulfilled_By'].fillna('Other')\n",
    "asr['Promotion_IDs'] =asr['Promotion_IDs'].fillna('No Promotion')\n",
    "asr['Currency'] =asr['Currency'].fillna('INR')\n",
    "asr['Sale_Amount'] =asr['Sale_Amount'].fillna(0)\n",
    "asr['Order_Status'] =asr['Order_Status'].fillna('Not Delivered')"
   ]
  },
  {
   "cell_type": "code",
   "execution_count": 15,
   "metadata": {},
   "outputs": [],
   "source": [
    "asr = asr.drop('index', axis=1) #index wont lineup so has to dropped"
   ]
  },
  {
   "cell_type": "code",
   "execution_count": 16,
   "metadata": {},
   "outputs": [],
   "source": [
    "asr['Order_Date'] =  pd.to_datetime(asr['Order_Date'])"
   ]
  },
  {
   "cell_type": "code",
   "execution_count": 17,
   "metadata": {},
   "outputs": [
    {
     "name": "stdout",
     "output_type": "stream",
     "text": [
      "Amount of missing values in asr: 7004\n",
      "Amount of missing values in cwc: 60\n",
      "Amount of missing values in Expense IIGF: 24\n",
      "Amount of missing values in International sales report: 8740\n",
      "Amount of missing values in may-2022: 0\n",
      "Amount of missing values in P L march: 0\n",
      "Amount of missing values in Sales report: 281\n"
     ]
    }
   ],
   "source": [
    "print(f\"Amount of missing values in asr: {asr.isnull().sum().sum()}\")\n",
    "print(f\"Amount of missing values in cwc: {cwc.isnull().sum().sum()}\")\n",
    "print(f\"Amount of missing values in Expense IIGF: {expense.isnull().sum().sum()}\")\n",
    "print(f\"Amount of missing values in International sales report: {isr.isnull().sum().sum()}\")\n",
    "print(f\"Amount of missing values in may-2022: {may.isnull().sum().sum()}\")\n",
    "print(f\"Amount of missing values in P L march: {pl.isnull().sum().sum()}\")\n",
    "print(f\"Amount of missing values in Sales report: {sr.isnull().sum().sum()}\")"
   ]
  },
  {
   "cell_type": "code",
   "execution_count": 18,
   "metadata": {},
   "outputs": [],
   "source": [
    "asr.dropna(inplace=True)\n",
    "cwc.dropna(inplace=True)\n",
    "expense.dropna(inplace=True)\n",
    "expense.dropna(inplace=True)\n",
    "sr.dropna(inplace=True)"
   ]
  },
  {
   "cell_type": "markdown",
   "metadata": {},
   "source": [
    "CLEANING AND FORMATTING ISR"
   ]
  },
  {
   "cell_type": "code",
   "execution_count": 19,
   "metadata": {},
   "outputs": [
    {
     "name": "stdout",
     "output_type": "stream",
     "text": [
      "<class 'pandas.core.frame.DataFrame'>\n",
      "RangeIndex: 37432 entries, 0 to 37431\n",
      "Data columns (total 10 columns):\n",
      " #   Column              Non-Null Count  Dtype \n",
      "---  ------              --------------  ----- \n",
      " 0   index               37432 non-null  int64 \n",
      " 1   Sale_Date           37431 non-null  object\n",
      " 2   Sale_Month          37407 non-null  object\n",
      " 3   Customer_Name       36392 non-null  object\n",
      " 4   Product_Style       36392 non-null  object\n",
      " 5   Product_SKU         34958 non-null  object\n",
      " 6   Product_Size        36392 non-null  object\n",
      " 7   Quantity_Purchased  36392 non-null  object\n",
      " 8   Price_per_Unit      36392 non-null  object\n",
      " 9   Gross_Amount        36392 non-null  object\n",
      "dtypes: int64(1), object(9)\n",
      "memory usage: 2.9+ MB\n"
     ]
    }
   ],
   "source": [
    "isr.info()"
   ]
  },
  {
   "cell_type": "code",
   "execution_count": 20,
   "metadata": {},
   "outputs": [
    {
     "data": {
      "text/plain": [
       "index                    0\n",
       "Sale_Date                1\n",
       "Sale_Month              25\n",
       "Customer_Name         1040\n",
       "Product_Style         1040\n",
       "Product_SKU           2474\n",
       "Product_Size          1040\n",
       "Quantity_Purchased    1040\n",
       "Price_per_Unit        1040\n",
       "Gross_Amount          1040\n",
       "dtype: int64"
      ]
     },
     "execution_count": 20,
     "metadata": {},
     "output_type": "execute_result"
    }
   ],
   "source": [
    "isr.isnull().sum()"
   ]
  },
  {
   "cell_type": "code",
   "execution_count": 21,
   "metadata": {},
   "outputs": [],
   "source": [
    "isr.dropna(subset=['Product_SKU'], inplace=True) #Product_SKu cannot be imputed"
   ]
  },
  {
   "cell_type": "code",
   "execution_count": 22,
   "metadata": {},
   "outputs": [],
   "source": [
    "isr = isr.drop('index', axis=1) #drop index as its not alligned after dropping NaN values"
   ]
  },
  {
   "cell_type": "code",
   "execution_count": 23,
   "metadata": {},
   "outputs": [
    {
     "data": {
      "text/plain": [
       "Sale_Date             0\n",
       "Sale_Month            0\n",
       "Customer_Name         0\n",
       "Product_Style         0\n",
       "Product_SKU           0\n",
       "Product_Size          0\n",
       "Quantity_Purchased    0\n",
       "Price_per_Unit        0\n",
       "Gross_Amount          0\n",
       "dtype: int64"
      ]
     },
     "execution_count": 23,
     "metadata": {},
     "output_type": "execute_result"
    }
   ],
   "source": [
    "isr.isnull().sum()"
   ]
  },
  {
   "cell_type": "code",
   "execution_count": 24,
   "metadata": {},
   "outputs": [
    {
     "name": "stdout",
     "output_type": "stream",
     "text": [
      "<class 'pandas.core.frame.DataFrame'>\n",
      "Index: 34958 entries, 0 to 37431\n",
      "Data columns (total 9 columns):\n",
      " #   Column              Non-Null Count  Dtype \n",
      "---  ------              --------------  ----- \n",
      " 0   Sale_Date           34958 non-null  object\n",
      " 1   Sale_Month          34958 non-null  object\n",
      " 2   Customer_Name       34958 non-null  object\n",
      " 3   Product_Style       34958 non-null  object\n",
      " 4   Product_SKU         34958 non-null  object\n",
      " 5   Product_Size        34958 non-null  object\n",
      " 6   Quantity_Purchased  34958 non-null  object\n",
      " 7   Price_per_Unit      34958 non-null  object\n",
      " 8   Gross_Amount        34958 non-null  object\n",
      "dtypes: object(9)\n",
      "memory usage: 2.7+ MB\n"
     ]
    }
   ],
   "source": [
    "isr.info()"
   ]
  },
  {
   "cell_type": "code",
   "execution_count": 25,
   "metadata": {},
   "outputs": [
    {
     "name": "stdout",
     "output_type": "stream",
     "text": [
      "Stock\n",
      "RATE\n",
      "GROSS AMT\n"
     ]
    }
   ],
   "source": [
    "print(isr['Gross_Amount'][19675])\n",
    "print(isr['Quantity_Purchased'][19675])\n",
    "print(isr['Price_per_Unit'][19675])"
   ]
  },
  {
   "cell_type": "code",
   "execution_count": 26,
   "metadata": {},
   "outputs": [],
   "source": [
    "isr = isr.drop(19675)"
   ]
  },
  {
   "cell_type": "code",
   "execution_count": 27,
   "metadata": {},
   "outputs": [
    {
     "data": {
      "text/plain": [
       "array(['21-Jun', '21-Jul', '21-Aug', '21-Sep', '21-Oct', '21-Nov',\n",
       "       '21-Dec', '22-Jan', '22-Feb', '22-Mar', '6/5/2021', '6/8/2021',\n",
       "       '6/11/2021', '6/15/2021', '6/17/2021', '6/18/2021', '6/19/2021',\n",
       "       '6/23/2021', '6/24/2021', '6/28/2021', '6/29/2021', '7/1/2021',\n",
       "       '7/8/2021', '7/9/2021', '7/10/2021', '7/12/2021', '7/13/2021',\n",
       "       '7/16/2021', '7/22/2021', '7/24/2021', '7/26/2021', '7/28/2021',\n",
       "       '7/29/2021', '7/30/2021', '7/31/2021', '8/4/2021', '8/5/2021',\n",
       "       '8/6/2021', '8/7/2021', '8/10/2021', '8/14/2021', '8/15/2021',\n",
       "       '8/16/2021', '8/19/2021', '8/20/2021', '8/21/2021', '8/25/2021',\n",
       "       '8/26/2021', '9/3/2021', '9/6/2021', '9/7/2021', '9/9/2021',\n",
       "       '9/11/2021', '9/14/2021', '9/15/2021', '9/16/2021', '9/18/2021',\n",
       "       '9/21/2021', '9/22/2021', '9/24/2021', '9/27/2021', '9/29/2021',\n",
       "       '10/1/2021', '10/2/2021', '10/4/2021', '10/5/2021', '10/6/2021',\n",
       "       '10/8/2021', '10/9/2021', '10/11/2021', '10/12/2021', '10/13/2021',\n",
       "       '10/14/2021', '10/15/2021', '10/18/2021', '10/20/2021',\n",
       "       '10/21/2021', '10/23/2021', '10/26/2021', '10/29/2021',\n",
       "       '11/1/2021', '11/3/2021', '11/12/2021', '11/16/2021', '11/19/2021',\n",
       "       '11/22/2021', '11/23/2021', '11/26/2021', '11/27/2021',\n",
       "       '11/29/2021', '12/2/2021', '12/6/2021', '12/9/2021', '12/13/2021',\n",
       "       '12/14/2021', '12/15/2021', '12/16/2021', '12/21/2021',\n",
       "       '12/24/2021', '12/27/2021', '12/28/2021', '12/30/2021', '1/1/2022',\n",
       "       '1/4/2022', '1/5/2022', '1/10/2022', '1/12/2022', '1/13/2022',\n",
       "       '1/17/2022', '1/19/2022', '1/24/2022', '1/25/2022', '1/27/2022',\n",
       "       '1/28/2022', '1/29/2022', '1/31/2022', '2/5/2022', '2/8/2022',\n",
       "       '2/10/2022', '2/11/2022', '2/12/2022', '2/14/2022', '2/16/2022',\n",
       "       '2/17/2022', '2/19/2022', '2/21/2022', '2/22/2022', '2/23/2022',\n",
       "       '2/24/2022', '2/25/2022', '2/26/2022', '2/28/2022', '3/1/2022',\n",
       "       '3/3/2022', '3/5/2022', '3/8/2022', '3/9/2022', '3/10/2022',\n",
       "       '3/12/2022', '3/17/2022', '3/21/2022', '3/22/2022', '3/23/2022',\n",
       "       '3/25/2022', '3/26/2022', '3/28/2022', '3/29/2022', '3/31/2022'],\n",
       "      dtype=object)"
      ]
     },
     "execution_count": 27,
     "metadata": {},
     "output_type": "execute_result"
    }
   ],
   "source": [
    "isr['Sale_Month'].unique()"
   ]
  },
  {
   "cell_type": "code",
   "execution_count": 28,
   "metadata": {},
   "outputs": [],
   "source": [
    "isr = isr.drop('Sale_Month', axis=1) #data can be taken from Sale date"
   ]
  },
  {
   "cell_type": "code",
   "execution_count": 29,
   "metadata": {},
   "outputs": [
    {
     "data": {
      "text/plain": [
       "array(['6/5/2021', '6/8/2021', '6/11/2021', '6/15/2021', '6/17/2021',\n",
       "       '6/18/2021', '6/19/2021', '6/23/2021', '6/24/2021', '6/28/2021',\n",
       "       '6/29/2021', '7/1/2021', '7/8/2021', '7/9/2021', '7/10/2021',\n",
       "       '7/12/2021', '7/13/2021', '7/16/2021', '7/22/2021', '7/24/2021',\n",
       "       '7/26/2021', '7/28/2021', '7/29/2021', '7/30/2021', '7/31/2021',\n",
       "       '8/4/2021', '8/5/2021', '8/6/2021', '8/7/2021', '8/10/2021',\n",
       "       '8/14/2021', '8/15/2021', '8/16/2021', '8/19/2021', '8/20/2021',\n",
       "       '8/21/2021', '8/25/2021', '8/26/2021', '9/3/2021', '9/6/2021',\n",
       "       '9/7/2021', '9/9/2021', '9/11/2021', '9/14/2021', '9/15/2021',\n",
       "       '9/16/2021', '9/18/2021', '9/21/2021', '9/22/2021', '9/24/2021',\n",
       "       '9/27/2021', '9/29/2021', '10/1/2021', '10/2/2021', '10/4/2021',\n",
       "       '10/5/2021', '10/6/2021', '10/8/2021', '10/9/2021', '10/11/2021',\n",
       "       '10/12/2021', '10/13/2021', '10/14/2021', '10/15/2021',\n",
       "       '10/18/2021', '10/20/2021', '10/21/2021', '10/23/2021',\n",
       "       '10/26/2021', '10/29/2021', '11/1/2021', '11/3/2021', '11/12/2021',\n",
       "       '11/16/2021', '11/19/2021', '11/22/2021', '11/23/2021',\n",
       "       '11/26/2021', '11/27/2021', '11/29/2021', '12/2/2021', '12/6/2021',\n",
       "       '12/9/2021', '12/13/2021', '12/14/2021', '12/15/2021',\n",
       "       '12/16/2021', '12/21/2021', '12/24/2021', '12/27/2021',\n",
       "       '12/28/2021', '12/30/2021', '1/1/2022', '1/4/2022', '1/5/2022',\n",
       "       '1/10/2022', '1/12/2022', '1/13/2022', '1/17/2022', '1/19/2022',\n",
       "       '1/24/2022', '1/25/2022', '1/27/2022', '1/28/2022', '1/29/2022',\n",
       "       '1/31/2022', '2/5/2022', '2/8/2022', '2/10/2022', '2/11/2022',\n",
       "       '2/12/2022', '2/14/2022', '2/16/2022', '2/17/2022', '2/19/2022',\n",
       "       '2/21/2022', '2/22/2022', '2/23/2022', '2/24/2022', '2/25/2022',\n",
       "       '2/26/2022', '2/28/2022', '3/1/2022', '3/3/2022', '3/5/2022',\n",
       "       '3/8/2022', '3/9/2022', '3/10/2022', '3/12/2022', '3/17/2022',\n",
       "       '3/21/2022', '3/22/2022', '3/23/2022', '3/25/2022', '3/26/2022',\n",
       "       '3/28/2022', '3/29/2022', '3/31/2022', 'REVATHY LOGANATHAN',\n",
       "       'FARIA ESSOPP', 'MANGALAM SHOP', 'THANA NAGISSWARY L MARIMUTHU',\n",
       "       'MR.ALWAR MURALI', 'RAZIA ROSEANE NASER', 'SIRI PADALA',\n",
       "       'FUSION FASHIONS CORP.', 'MIZNA WAHEEDH',\n",
       "       'AMANI CONCEPT TRADING LLC (KAPDA)', 'NITHARSHA', 'SYEDA MORSHED',\n",
       "       'VINTAGE INDIA NYC', 'M/S CHARISMAKURTIES(DUBAI)',\n",
       "       'MULBERRIES BOUTIQUE', 'COTTON CLOSET LTD', 'THANA MARIMUTHU',\n",
       "       'SHWETA', 'MONIYSHAA', 'AANCHOL', 'KHUSBOO BEEHARRY', 'ARUNA DEVI',\n",
       "       'YAMUNAH PUSPANATHAN', 'RISHIKESH DASHPUTRE', 'REGA',\n",
       "       'SURE FASHIONS LLC', 'MR ALWAR MURALI', 'KOGILA SELLAPPAN',\n",
       "       'MONISYAA', 'VINODHA PUSPANATHAN', 'REKA RASAKODY', 'ARKH FASHION',\n",
       "       'PUVANES GANNASIN', 'VINI’S AUTHENTIC INDIAN ETHNIC WEAR',\n",
       "       'BINCY SKARIA', 'YASHWINI REDDY', 'BANUJA RASAKODY',\n",
       "       'VAHLAARMATHY', 'AKASH KAUSHAL', 'KIRUTHIKA V SURESHBABU',\n",
       "       'RIVAAN LLC', 'SINDHU', 'DHENOOGA RAVINTHERAN',\n",
       "       'VAHARSHA BOUTIQUE', 'MANISH DHOORUNDHUR', 'RINO SANDARAN',\n",
       "       'VENDAN', 'VISHAL DARSHAN BOUTIQUE', 'KAVEENAZ COLLECTION',\n",
       "       'ALAMELOO(MALA)', 'MURUGESAN CHANDRA', 'MEERA RASADURAI',\n",
       "       'MANJULIKA GUPTA', 'GALAXY GROUP OF COMPANIES PVT. LTD',\n",
       "       'NIRUSAH TAILORING', 'DEVY', 'VAHARSHA BOUTIQUE ',\n",
       "       'KALAIVANI PERMALU', 'ARKH FASHION BOUTIQUE PTY LTD',\n",
       "       'DANESHWARY RAMAR', 'MILLENIUS VENTURES', 'GEETHA RAJA GOPAL',\n",
       "       'TANUJ UPPAL', 'ADDVEN SOLUTIONS PRIVATE LIMITED',\n",
       "       'MRS DEVIANEE BALLAH', 'DEEPARATI MUKHERJEE', 'RANDHIR CHAUDHARY',\n",
       "       'ANJU BHARATI', 'VISHA DEVAN', 'SWATI REDDY',\n",
       "       'ABDUL RAHMAN(SINGAPORE)', 'RAJ.', 'MANGROWTEE SOOKDEB',\n",
       "       'KAZI NURAN HAQUE', 'PUNITHAVATHY KARUPIAH', 'SUUMAYA CLOTHING',\n",
       "       'NALINI', 'MR. GOPALDAS', 'REMMIA MATHEWS',\n",
       "       'ANU RANJANI ANPALAGAN', 'ENTHULEGA ',\n",
       "       'IBRAHIM MAFTHOOH(JANASYA.IN)', 'MAAVI FASHION', 'K.PARTHIBAN',\n",
       "       'KHIRTHIKA ', 'HARSINIY KUMARESON', 'SWATI(SINGAPORE)',\n",
       "       'SWEETY AKHTER', 'LEKSHMI', 'KHANJANA MOJEE', 'BISSY SKARIA',\n",
       "       'TANUSREE MAJUMDER', 'SUGITHA SUGHUMARAN', 'THARSIKA EUGIN ',\n",
       "       'JEVI', 'DIVYA', 'THILAS BOMBAY BOUTIQUE SDN BHD', 'MR.JEYARAJ',\n",
       "       'ABBI COLLECTION ', 'AVIN  ', 'RANJANA DEV DEVRAJ',\n",
       "       'NAYANA SAWLANI', 'MRS. THARANI SATHIYANATHAN ',\n",
       "       'ETHNIC WEAVES FASHION LLC', 'MANGAI PRABHAKAR',\n",
       "       'MRS. SUMITHA RAJU', 'RINA THAKURTA', 'MALLAR MAHALINGAM ',\n",
       "       'THEVI MURUGAIAH', 'NATHIYA REDDY', 'MOHANA KARTHIK ',\n",
       "       'SHILPI KUMARI', 'YASSHLINY KUNJU', 'BHANU SALEINE NAUNITHAM ',\n",
       "       'TURGAH MUTHU KUMAR', 'VIKNES THREADS COLLECTION',\n",
       "       'NITHA PUSHPANGADAN SARALA', 'RAVINDER VAID', 'AMBIKA SYAM SUNDAR',\n",
       "       'ARANGAN FASHIONS', 'SANCHITA KARKI', 'OKASINA TRADING',\n",
       "       'KASTHURI RAMASAMY', 'RADHIKA SANTHOSH', 'TASSELS LTD'],\n",
       "      dtype=object)"
      ]
     },
     "execution_count": 29,
     "metadata": {},
     "output_type": "execute_result"
    }
   ],
   "source": [
    "isr['Sale_Date'].unique()"
   ]
  },
  {
   "cell_type": "code",
   "execution_count": 30,
   "metadata": {},
   "outputs": [],
   "source": [
    "isr['Gross_Amount'] = pd.to_numeric(isr['Gross_Amount'])\n",
    "isr['Price_per_Unit'] = pd.to_numeric(isr['Price_per_Unit'])\n",
    "isr['Quantity_Purchased'] = pd.to_numeric(isr['Quantity_Purchased'])\n"
   ]
  },
  {
   "cell_type": "code",
   "execution_count": 31,
   "metadata": {},
   "outputs": [],
   "source": [
    "#isr['Sale_Date'] =  pd.to_datetime(isr['Sale_Date'])"
   ]
  },
  {
   "cell_type": "code",
   "execution_count": 32,
   "metadata": {},
   "outputs": [
    {
     "name": "stdout",
     "output_type": "stream",
     "text": [
      "<class 'pandas.core.frame.DataFrame'>\n",
      "Index: 34957 entries, 0 to 37431\n",
      "Data columns (total 8 columns):\n",
      " #   Column              Non-Null Count  Dtype  \n",
      "---  ------              --------------  -----  \n",
      " 0   Sale_Date           34957 non-null  object \n",
      " 1   Customer_Name       34957 non-null  object \n",
      " 2   Product_Style       34957 non-null  object \n",
      " 3   Product_SKU         34957 non-null  object \n",
      " 4   Product_Size        34957 non-null  object \n",
      " 5   Quantity_Purchased  34957 non-null  float64\n",
      " 6   Price_per_Unit      34957 non-null  float64\n",
      " 7   Gross_Amount        34957 non-null  int64  \n",
      "dtypes: float64(2), int64(1), object(5)\n",
      "memory usage: 2.4+ MB\n"
     ]
    }
   ],
   "source": [
    "isr.info()"
   ]
  },
  {
   "cell_type": "markdown",
   "metadata": {},
   "source": [
    "CLEANING AND FORMATTING SR"
   ]
  },
  {
   "cell_type": "code",
   "execution_count": 33,
   "metadata": {},
   "outputs": [
    {
     "name": "stdout",
     "output_type": "stream",
     "text": [
      "<class 'pandas.core.frame.DataFrame'>\n",
      "Index: 9188 entries, 0 to 9234\n",
      "Data columns (total 7 columns):\n",
      " #   Column            Non-Null Count  Dtype  \n",
      "---  ------            --------------  -----  \n",
      " 0   index             9188 non-null   int64  \n",
      " 1   Product_SKU       9188 non-null   object \n",
      " 2   Design_Number     9188 non-null   object \n",
      " 3   Stock_Level       9188 non-null   float64\n",
      " 4   Product_Category  9188 non-null   object \n",
      " 5   Product_Size      9188 non-null   object \n",
      " 6   Product_Color     9188 non-null   object \n",
      "dtypes: float64(1), int64(1), object(5)\n",
      "memory usage: 574.2+ KB\n"
     ]
    }
   ],
   "source": [
    "sr.info()"
   ]
  },
  {
   "cell_type": "code",
   "execution_count": 34,
   "metadata": {},
   "outputs": [],
   "source": [
    "sr = sr.drop('index', axis=1) #Index does not lineup after dropping nulls"
   ]
  },
  {
   "cell_type": "code",
   "execution_count": 35,
   "metadata": {},
   "outputs": [
    {
     "name": "stdout",
     "output_type": "stream",
     "text": [
      "Amount of missing values in asr: 0\n",
      "Amount of missing values in cwc: 0\n",
      "Amount of missing values in Expense IIGF: 0\n",
      "Amount of missing values in International sales report: 0\n",
      "Amount of missing values in may-2022: 0\n",
      "Amount of missing values in P L march: 0\n",
      "Amount of missing values in Sales report: 0\n"
     ]
    }
   ],
   "source": [
    "print(f\"Amount of missing values in asr: {asr.isnull().sum().sum()}\")\n",
    "print(f\"Amount of missing values in cwc: {cwc.isnull().sum().sum()}\")\n",
    "print(f\"Amount of missing values in Expense IIGF: {expense.isnull().sum().sum()}\")\n",
    "print(f\"Amount of missing values in International sales report: {isr.isnull().sum().sum()}\")\n",
    "print(f\"Amount of missing values in may-2022: {may.isnull().sum().sum()}\")\n",
    "print(f\"Amount of missing values in P L march: {pl.isnull().sum().sum()}\")\n",
    "print(f\"Amount of missing values in Sales report: {sr.isnull().sum().sum()}\")"
   ]
  },
  {
   "cell_type": "code",
   "execution_count": 36,
   "metadata": {},
   "outputs": [
    {
     "name": "stdout",
     "output_type": "stream",
     "text": [
      "(122073, 22)\n",
      "(15, 4)\n",
      "(5, 5)\n",
      "(34957, 8)\n",
      "(1330, 17)\n",
      "(1330, 18)\n",
      "(9188, 6)\n"
     ]
    }
   ],
   "source": [
    "print(asr.shape)\n",
    "print(cwc.shape)\n",
    "print(expense.shape)\n",
    "print(isr.shape)\n",
    "print(may.shape)\n",
    "print(pl.shape)\n",
    "print(sr.shape)"
   ]
  },
  {
   "cell_type": "code",
   "execution_count": 37,
   "metadata": {},
   "outputs": [
    {
     "name": "stdout",
     "output_type": "stream",
     "text": [
      "<class 'pandas.core.frame.DataFrame'>\n",
      "RangeIndex: 1330 entries, 0 to 1329\n",
      "Data columns (total 18 columns):\n",
      " #   Column                  Non-Null Count  Dtype \n",
      "---  ------                  --------------  ----- \n",
      " 0   index                   1330 non-null   int64 \n",
      " 1   Product_SKU             1330 non-null   object\n",
      " 2   Product_Style_ID        1330 non-null   object\n",
      " 3   Product_Catalog         1330 non-null   object\n",
      " 4   Product_Category        1330 non-null   object\n",
      " 5   Product_Weight          1330 non-null   object\n",
      " 6   Transfer_Price_Level_1  1330 non-null   object\n",
      " 7   Transfer_Price_Level_2  1330 non-null   object\n",
      " 8   Old_MRP                 1330 non-null   object\n",
      " 9   Final_Old_MRP           1330 non-null   object\n",
      " 10  Ajio_MRP                1330 non-null   object\n",
      " 11  Amazon_MRP              1330 non-null   object\n",
      " 12  Amazon_FBA_MRP          1330 non-null   object\n",
      " 13  Flipkart_MRP            1330 non-null   object\n",
      " 14  Limeroad_MRP            1330 non-null   object\n",
      " 15  Myntra_MRP              1330 non-null   object\n",
      " 16  Paytm_MRP\n",
      "              1330 non-null   object\n",
      " 17  Snapdeal_MRP            1330 non-null   object\n",
      "dtypes: int64(1), object(17)\n",
      "memory usage: 187.2+ KB\n"
     ]
    }
   ],
   "source": [
    "pl.info()"
   ]
  },
  {
   "cell_type": "code",
   "execution_count": 38,
   "metadata": {},
   "outputs": [],
   "source": [
    "price_columns = ['Product_Weight','Transfer_Price_Level_1', 'Transfer_Price_Level_2', 'Old_MRP',\n",
    "                 'Final_Old_MRP', 'Ajio_MRP', 'Amazon_MRP', 'Amazon_FBA_MRP',\n",
    "                 'Flipkart_MRP', 'Limeroad_MRP', 'Myntra_MRP', 'Snapdeal_MRP',\n",
    "                'Paytm_MRP']"
   ]
  },
  {
   "cell_type": "code",
   "execution_count": 39,
   "metadata": {},
   "outputs": [],
   "source": [
    "pl.columns = pl.columns.str.strip() # there a leading and trailing whitespaces in some columns"
   ]
  },
  {
   "cell_type": "code",
   "execution_count": 40,
   "metadata": {},
   "outputs": [],
   "source": [
    "for col in price_columns:\n",
    "    pl[col] = pd.to_numeric(pl[col], errors='coerce').astype('float64')"
   ]
  },
  {
   "cell_type": "code",
   "execution_count": 41,
   "metadata": {},
   "outputs": [
    {
     "name": "stdout",
     "output_type": "stream",
     "text": [
      "<class 'pandas.core.frame.DataFrame'>\n",
      "RangeIndex: 1330 entries, 0 to 1329\n",
      "Data columns (total 18 columns):\n",
      " #   Column                  Non-Null Count  Dtype  \n",
      "---  ------                  --------------  -----  \n",
      " 0   index                   1330 non-null   int64  \n",
      " 1   Product_SKU             1330 non-null   object \n",
      " 2   Product_Style_ID        1330 non-null   object \n",
      " 3   Product_Catalog         1330 non-null   object \n",
      " 4   Product_Category        1330 non-null   object \n",
      " 5   Product_Weight          1257 non-null   float64\n",
      " 6   Transfer_Price_Level_1  1324 non-null   float64\n",
      " 7   Transfer_Price_Level_2  1324 non-null   float64\n",
      " 8   Old_MRP                 1293 non-null   float64\n",
      " 9   Final_Old_MRP           1293 non-null   float64\n",
      " 10  Ajio_MRP                1293 non-null   float64\n",
      " 11  Amazon_MRP              1293 non-null   float64\n",
      " 12  Amazon_FBA_MRP          1293 non-null   float64\n",
      " 13  Flipkart_MRP            1293 non-null   float64\n",
      " 14  Limeroad_MRP            1293 non-null   float64\n",
      " 15  Myntra_MRP              1299 non-null   float64\n",
      " 16  Paytm_MRP               1293 non-null   float64\n",
      " 17  Snapdeal_MRP            1293 non-null   float64\n",
      "dtypes: float64(13), int64(1), object(4)\n",
      "memory usage: 187.2+ KB\n"
     ]
    }
   ],
   "source": [
    "pl.info()"
   ]
  },
  {
   "cell_type": "code",
   "execution_count": 42,
   "metadata": {},
   "outputs": [
    {
     "name": "stdout",
     "output_type": "stream",
     "text": [
      "<class 'pandas.core.frame.DataFrame'>\n",
      "RangeIndex: 1330 entries, 0 to 1329\n",
      "Data columns (total 17 columns):\n",
      " #   Column            Non-Null Count  Dtype \n",
      "---  ------            --------------  ----- \n",
      " 0   index             1330 non-null   int64 \n",
      " 1   Product_SKU       1330 non-null   object\n",
      " 2   Product_Style_ID  1330 non-null   object\n",
      " 3   Product_Catalog   1330 non-null   object\n",
      " 4   Product_Category  1330 non-null   object\n",
      " 5   Product_Weight    1330 non-null   object\n",
      " 6   Transfer_Price    1330 non-null   object\n",
      " 7   Old_MRP           1330 non-null   object\n",
      " 8   Final_Old_MRP     1330 non-null   object\n",
      " 9   Ajio_MRP          1330 non-null   object\n",
      " 10  Amazon_MRP        1330 non-null   object\n",
      " 11  Amazon_FBA_MRP    1330 non-null   object\n",
      " 12  Flipkart_MRP      1330 non-null   object\n",
      " 13  Limeroad_MRP      1330 non-null   object\n",
      " 14  Myntra_MRP        1330 non-null   object\n",
      " 15  Paytm_MRP         1330 non-null   object\n",
      " 16  Snapdeal_MRP      1330 non-null   object\n",
      "dtypes: int64(1), object(16)\n",
      "memory usage: 176.8+ KB\n"
     ]
    }
   ],
   "source": [
    "may.info()"
   ]
  },
  {
   "cell_type": "code",
   "execution_count": 43,
   "metadata": {},
   "outputs": [],
   "source": [
    "may_columns = ['Product_Weight','Transfer_Price', 'Transfer_Price', 'Old_MRP',\n",
    "                 'Final_Old_MRP', 'Ajio_MRP', 'Amazon_MRP', 'Amazon_FBA_MRP',\n",
    "                 'Flipkart_MRP', 'Limeroad_MRP', 'Myntra_MRP', 'Snapdeal_MRP',\n",
    "                'Paytm_MRP']"
   ]
  },
  {
   "cell_type": "code",
   "execution_count": 44,
   "metadata": {},
   "outputs": [],
   "source": [
    "for col in may_columns:\n",
    "    may[col] = pd.to_numeric(may[col], errors='coerce').astype('float64')"
   ]
  },
  {
   "cell_type": "code",
   "execution_count": 45,
   "metadata": {},
   "outputs": [
    {
     "name": "stdout",
     "output_type": "stream",
     "text": [
      "<class 'pandas.core.frame.DataFrame'>\n",
      "RangeIndex: 1330 entries, 0 to 1329\n",
      "Data columns (total 17 columns):\n",
      " #   Column            Non-Null Count  Dtype  \n",
      "---  ------            --------------  -----  \n",
      " 0   index             1330 non-null   int64  \n",
      " 1   Product_SKU       1330 non-null   object \n",
      " 2   Product_Style_ID  1330 non-null   object \n",
      " 3   Product_Catalog   1330 non-null   object \n",
      " 4   Product_Category  1330 non-null   object \n",
      " 5   Product_Weight    1257 non-null   float64\n",
      " 6   Transfer_Price    1324 non-null   float64\n",
      " 7   Old_MRP           1293 non-null   float64\n",
      " 8   Final_Old_MRP     1293 non-null   float64\n",
      " 9   Ajio_MRP          1293 non-null   float64\n",
      " 10  Amazon_MRP        1293 non-null   float64\n",
      " 11  Amazon_FBA_MRP    1293 non-null   float64\n",
      " 12  Flipkart_MRP      1293 non-null   float64\n",
      " 13  Limeroad_MRP      1293 non-null   float64\n",
      " 14  Myntra_MRP        1299 non-null   float64\n",
      " 15  Paytm_MRP         1293 non-null   float64\n",
      " 16  Snapdeal_MRP      1293 non-null   float64\n",
      "dtypes: float64(12), int64(1), object(4)\n",
      "memory usage: 176.8+ KB\n"
     ]
    }
   ],
   "source": [
    "may.info()"
   ]
  }
 ],
 "metadata": {
  "kernelspec": {
   "display_name": "Python 3",
   "language": "python",
   "name": "python3"
  },
  "language_info": {
   "codemirror_mode": {
    "name": "ipython",
    "version": 3
   },
   "file_extension": ".py",
   "mimetype": "text/x-python",
   "name": "python",
   "nbconvert_exporter": "python",
   "pygments_lexer": "ipython3",
   "version": "3.11.0"
  }
 },
 "nbformat": 4,
 "nbformat_minor": 2
}
