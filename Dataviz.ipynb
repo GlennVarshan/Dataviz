{
 "cells": [
  {
   "cell_type": "code",
   "execution_count": 8,
   "metadata": {},
   "outputs": [],
   "source": [
    "import pandas as pd\n",
    "from datasets import load_dataset\n",
    "import seaborn as sns\n",
    "import matplotlib.pyplot as plt"
   ]
  },
  {
   "cell_type": "code",
   "execution_count": 124,
   "metadata": {},
   "outputs": [],
   "source": [
    "asr = pd.read_csv('Dataset(Jan-25)\\Amazon Sale Report.csv')\n",
    "cwc = pd.read_csv('Dataset(Jan-25)\\Cloud Warehouse Compersion Chart.csv')\n",
    "expense = pd.read_csv('Dataset(Jan-25)\\Expense IIGF.csv')\n",
    "isr = pd.read_csv('Dataset(Jan-25)/International sale Report.csv')\n",
    "may = pd.read_csv('Dataset(Jan-25)\\May-2022.csv')\n",
    "pl = pd.read_csv('Dataset(Jan-25)\\P  L March 2021.csv')\n",
    "sr = pd.read_csv('Dataset(Jan-25)\\Sale Report.csv')"
   ]
  },
  {
   "cell_type": "code",
   "execution_count": 125,
   "metadata": {},
   "outputs": [
    {
     "name": "stdout",
     "output_type": "stream",
     "text": [
      "(128975, 23)\n",
      "(50, 4)\n",
      "(17, 5)\n",
      "(37432, 10)\n",
      "(1330, 17)\n",
      "(1330, 18)\n",
      "(9271, 7)\n"
     ]
    }
   ],
   "source": [
    "print(asr.shape)\n",
    "print(cwc.shape)\n",
    "print(expense.shape)\n",
    "print(isr.shape)\n",
    "print(may.shape)\n",
    "print(pl.shape)\n",
    "print(sr.shape)"
   ]
  },
  {
   "cell_type": "code",
   "execution_count": null,
   "metadata": {},
   "outputs": [
    {
     "data": {
      "text/plain": [
       "array([nan,\n",
       "       'Amazon PLCC Free-Financing Universal Merchant AAT-WNKTBO3K27EJC,Amazon PLCC Free-Financing Universal Merchant AAT-QX3UCCJESKPA2,Amazon PLCC Free-Financing Universal Merchant AAT-5QQ7BIYYQEDN2,Amazon PLCC Free-Financing Universal Merchant AAT-DSJ2QRXXWXVMQ,Amazon PLCC Free-Financing Universal Merchant AAT-CXJHMC2YJUK76,Amazon PLCC Free-Financing Universal Merchant AAT-CC4FAVTYR4X7C,Amazon PLCC Free-Financing Universal Merchant AAT-XXRCW6NZEPZI4,Amazon PLCC Free-Financing Universal Merchant AAT-CXNSLNBROFDW4,Amazon PLCC Free-Financing Universal Merchant AAT-R7GXNZWISTRFA,Amazon PLCC Free-Financing Universal Merchant AAT-WSJLDN3X7KEMO,Amazon PLCC Free-Financing Universal Merchant AAT-VL6FGQVGQVXUS,Amazon PLCC Free-Financing Universal Merchant AAT-EOKPWFWYW7Y6I,Amazon PLCC Free-Financing Universal Merchant AAT-ZYL5UPUNW6T62,Amazon PLCC Free-Financing Universal Merchant AAT-XVPICCHRWDCAI,Amazon PLCC Free-Financing Universal Merchant AAT-ETXQ3XXWMRXBG,Amazon PLCC Free-Financing Universal Merchant AAT-7X3XCTYG64VBE,Amazon PLCC Free-Financing Universal Merchant AAT-7CHGD3WTS3MHM,Amazon PLCC Free-Financing Universal Merchant AAT-26ZDKNME27X42,Amazon PLCC Free-Financing Universal Merchant AAT-4ZF5KN6E4LJK4,Amazon PLCC Free-Financing Universal Merchant AAT-7RCXIKUAX7DDY,Amazon PLCC Free-Financing Universal Merchant AAT-BRSZZ45H6MHAO,Amazon PLCC Free-Financing Universal Merchant AAT-MKLXOOZWQL7GO,Amazon PLCC Free-Financing Universal Merchant AAT-CB7UNXEXGIJTC,Amazon PLCC Free-Financing Universal Merchant #MP-gzasho-1593152694811,Amazon PLCC Free-Financing Universal Merchant AAT-WLBA4GZ52EAH4',\n",
       "       'IN Core Free Shipping 2015/04/08 23-48-5-108', ...,\n",
       "       'Amazon PLCC Free-Financing Universal Merchant AAT-WNKTBO3K27EJC,Amazon PLCC Free-Financing Universal Merchant AAT-QX3UCCJESKPA2,Amazon PLCC Free-Financing Universal Merchant AAT-5QQ7BIYYQEDN2,Amazon PLCC Free-Financing Universal Merchant AAT-DSJ2QRXXWXVMQ,Amazon PLCC Free-Financing Universal Merchant AAT-CXJHMC2YJUK76,Amazon PLCC Free-Financing Universal Merchant AAT-SL3Y2YRMAUNFC,Amazon PLCC Free-Financing Universal Merchant AAT-CC4FAVTYR4X7C,Amazon PLCC Free-Financing Universal Merchant AAT-EWAPBB6BDRGM6,Amazon PLCC Free-Financing Universal Merchant AAT-EOKPWFWYW7Y6I,Amazon PLCC Free-Financing Universal Merchant AAT-5ZEB2OGNZ32MC,Amazon PLCC Free-Financing Universal Merchant AAT-NT3ZJJGQ3JK3Q,Amazon PLCC Free-Financing Universal Merchant AAT-TNYBHEAO7HOHO,Amazon PLCC Free-Financing Universal Merchant AAT-BRSZZ45H6MHAO,Amazon PLCC Free-Financing Universal Merchant AAT-MKLXOOZWQL7GO,Amazon PLCC Free-Financing Universal Merchant AAT-CB7UNXEXGIJTC,Amazon PLCC Free-Financing Universal Merchant #MP-gzasho-1593152694811,Amazon PLCC Free-Financing Universal Merchant AAT-WLBA4GZ52EAH4,Amazon PLCC Free-Financing Universal Merchant AAT-QMFZ3M7T5NPDS,Amazon PLCC Free-Financing Universal Merchant #MP-pmilan-1601980554292',\n",
       "       'Amazon PLCC Free-Financing Universal Merchant AAT-WNKTBO3K27EJC,Amazon PLCC Free-Financing Universal Merchant AAT-QX3UCCJESKPA2,Amazon PLCC Free-Financing Universal Merchant AAT-5QQ7BIYYQEDN2,Amazon PLCC Free-Financing Universal Merchant AAT-DSJ2QRXXWXVMQ,Amazon PLCC Free-Financing Universal Merchant AAT-CXJHMC2YJUK76,Amazon PLCC Free-Financing Universal Merchant AAT-SL3Y2YRMAUNFC,Amazon PLCC Free-Financing Universal Merchant AAT-CC4FAVTYR4X7C,Amazon PLCC Free-Financing Universal Merchant AAT-EWAPBB6BDRGM6,Amazon PLCC Free-Financing Universal Merchant AAT-R7GXNZWISTRFA,Amazon PLCC Free-Financing Universal Merchant AAT-EOKPWFWYW7Y6I,Amazon PLCC Free-Financing Universal Merchant AAT-5ZEB2OGNZ32MC,Amazon PLCC Free-Financing Universal Merchant AAT-NT3ZJJGQ3JK3Q,Amazon PLCC Free-Financing Universal Merchant AAT-5SHH3G55USK5C,Amazon PLCC Free-Financing Universal Merchant AAT-BRSZZ45H6MHAO,Amazon PLCC Free-Financing Universal Merchant AAT-MKLXOOZWQL7GO,Amazon PLCC Free-Financing Universal Merchant AAT-CB7UNXEXGIJTC,Amazon PLCC Free-Financing Universal Merchant #MP-gzasho-1593152694811,Amazon PLCC Free-Financing Universal Merchant AAT-WLBA4GZ52EAH4',\n",
       "       'Amazon PLCC Free-Financing Universal Merchant AAT-WNKTBO3K27EJC,Amazon PLCC Free-Financing Universal Merchant AAT-QX3UCCJESKPA2,Amazon PLCC Free-Financing Universal Merchant AAT-5QQ7BIYYQEDN2,Amazon PLCC Free-Financing Universal Merchant AAT-DSJ2QRXXWXVMQ,Amazon PLCC Free-Financing Universal Merchant AAT-CXJHMC2YJUK76,Amazon PLCC Free-Financing Universal Merchant AAT-CC4FAVTYR4X7C,Amazon PLCC Free-Financing Universal Merchant AAT-EWAPBB6BDRGM6,Amazon PLCC Free-Financing Universal Merchant AAT-R7GXNZWISTRFA,Amazon PLCC Free-Financing Universal Merchant AAT-EOKPWFWYW7Y6I,Amazon PLCC Free-Financing Universal Merchant AAT-NT3ZJJGQ3JK3Q,Amazon PLCC Free-Financing Universal Merchant AAT-5SHH3G55USK5C,Amazon PLCC Free-Financing Universal Merchant AAT-TNYBHEAO7HOHO,Amazon PLCC Free-Financing Universal Merchant AAT-BRSZZ45H6MHAO,Amazon PLCC Free-Financing Universal Merchant AAT-MKLXOOZWQL7GO,Amazon PLCC Free-Financing Universal Merchant AAT-CB7UNXEXGIJTC,Amazon PLCC Free-Financing Universal Merchant #MP-gzasho-1593152694811,Amazon PLCC Free-Financing Universal Merchant AAT-WLBA4GZ52EAH4,Amazon PLCC Free-Financing Universal Merchant AAT-QMFZ3M7T5NPDS,Amazon PLCC Free-Financing Universal Merchant #MP-pmilan-1601980554292'],\n",
       "      dtype=object)"
      ]
     },
     "execution_count": 111,
     "metadata": {},
     "output_type": "execute_result"
    }
   ],
   "source": []
  },
  {
   "cell_type": "markdown",
   "metadata": {},
   "source": [
    "PREPROCCESSING"
   ]
  },
  {
   "cell_type": "code",
   "execution_count": 109,
   "metadata": {},
   "outputs": [
    {
     "data": {
      "text/plain": [
       "array(['Easy Ship', nan], dtype=object)"
      ]
     },
     "execution_count": 109,
     "metadata": {},
     "output_type": "execute_result"
    }
   ],
   "source": [
    "asr['Fulfilled_By'].unique()"
   ]
  },
  {
   "cell_type": "code",
   "execution_count": 120,
   "metadata": {},
   "outputs": [
    {
     "data": {
      "text/plain": [
       "array([nan,\n",
       "       'Amazon PLCC Free-Financing Universal Merchant AAT-WNKTBO3K27EJC,Amazon PLCC Free-Financing Universal Merchant AAT-QX3UCCJESKPA2,Amazon PLCC Free-Financing Universal Merchant AAT-5QQ7BIYYQEDN2,Amazon PLCC Free-Financing Universal Merchant AAT-DSJ2QRXXWXVMQ,Amazon PLCC Free-Financing Universal Merchant AAT-CXJHMC2YJUK76,Amazon PLCC Free-Financing Universal Merchant AAT-CC4FAVTYR4X7C,Amazon PLCC Free-Financing Universal Merchant AAT-XXRCW6NZEPZI4,Amazon PLCC Free-Financing Universal Merchant AAT-CXNSLNBROFDW4,Amazon PLCC Free-Financing Universal Merchant AAT-R7GXNZWISTRFA,Amazon PLCC Free-Financing Universal Merchant AAT-WSJLDN3X7KEMO,Amazon PLCC Free-Financing Universal Merchant AAT-VL6FGQVGQVXUS,Amazon PLCC Free-Financing Universal Merchant AAT-EOKPWFWYW7Y6I,Amazon PLCC Free-Financing Universal Merchant AAT-ZYL5UPUNW6T62,Amazon PLCC Free-Financing Universal Merchant AAT-XVPICCHRWDCAI,Amazon PLCC Free-Financing Universal Merchant AAT-ETXQ3XXWMRXBG,Amazon PLCC Free-Financing Universal Merchant AAT-7X3XCTYG64VBE,Amazon PLCC Free-Financing Universal Merchant AAT-7CHGD3WTS3MHM,Amazon PLCC Free-Financing Universal Merchant AAT-26ZDKNME27X42,Amazon PLCC Free-Financing Universal Merchant AAT-4ZF5KN6E4LJK4,Amazon PLCC Free-Financing Universal Merchant AAT-7RCXIKUAX7DDY,Amazon PLCC Free-Financing Universal Merchant AAT-BRSZZ45H6MHAO,Amazon PLCC Free-Financing Universal Merchant AAT-MKLXOOZWQL7GO,Amazon PLCC Free-Financing Universal Merchant AAT-CB7UNXEXGIJTC,Amazon PLCC Free-Financing Universal Merchant #MP-gzasho-1593152694811,Amazon PLCC Free-Financing Universal Merchant AAT-WLBA4GZ52EAH4',\n",
       "       'IN Core Free Shipping 2015/04/08 23-48-5-108', ...,\n",
       "       'Amazon PLCC Free-Financing Universal Merchant AAT-WNKTBO3K27EJC,Amazon PLCC Free-Financing Universal Merchant AAT-QX3UCCJESKPA2,Amazon PLCC Free-Financing Universal Merchant AAT-5QQ7BIYYQEDN2,Amazon PLCC Free-Financing Universal Merchant AAT-DSJ2QRXXWXVMQ,Amazon PLCC Free-Financing Universal Merchant AAT-CXJHMC2YJUK76,Amazon PLCC Free-Financing Universal Merchant AAT-SL3Y2YRMAUNFC,Amazon PLCC Free-Financing Universal Merchant AAT-CC4FAVTYR4X7C,Amazon PLCC Free-Financing Universal Merchant AAT-EWAPBB6BDRGM6,Amazon PLCC Free-Financing Universal Merchant AAT-EOKPWFWYW7Y6I,Amazon PLCC Free-Financing Universal Merchant AAT-5ZEB2OGNZ32MC,Amazon PLCC Free-Financing Universal Merchant AAT-NT3ZJJGQ3JK3Q,Amazon PLCC Free-Financing Universal Merchant AAT-TNYBHEAO7HOHO,Amazon PLCC Free-Financing Universal Merchant AAT-BRSZZ45H6MHAO,Amazon PLCC Free-Financing Universal Merchant AAT-MKLXOOZWQL7GO,Amazon PLCC Free-Financing Universal Merchant AAT-CB7UNXEXGIJTC,Amazon PLCC Free-Financing Universal Merchant #MP-gzasho-1593152694811,Amazon PLCC Free-Financing Universal Merchant AAT-WLBA4GZ52EAH4,Amazon PLCC Free-Financing Universal Merchant AAT-QMFZ3M7T5NPDS,Amazon PLCC Free-Financing Universal Merchant #MP-pmilan-1601980554292',\n",
       "       'Amazon PLCC Free-Financing Universal Merchant AAT-WNKTBO3K27EJC,Amazon PLCC Free-Financing Universal Merchant AAT-QX3UCCJESKPA2,Amazon PLCC Free-Financing Universal Merchant AAT-5QQ7BIYYQEDN2,Amazon PLCC Free-Financing Universal Merchant AAT-DSJ2QRXXWXVMQ,Amazon PLCC Free-Financing Universal Merchant AAT-CXJHMC2YJUK76,Amazon PLCC Free-Financing Universal Merchant AAT-SL3Y2YRMAUNFC,Amazon PLCC Free-Financing Universal Merchant AAT-CC4FAVTYR4X7C,Amazon PLCC Free-Financing Universal Merchant AAT-EWAPBB6BDRGM6,Amazon PLCC Free-Financing Universal Merchant AAT-R7GXNZWISTRFA,Amazon PLCC Free-Financing Universal Merchant AAT-EOKPWFWYW7Y6I,Amazon PLCC Free-Financing Universal Merchant AAT-5ZEB2OGNZ32MC,Amazon PLCC Free-Financing Universal Merchant AAT-NT3ZJJGQ3JK3Q,Amazon PLCC Free-Financing Universal Merchant AAT-5SHH3G55USK5C,Amazon PLCC Free-Financing Universal Merchant AAT-BRSZZ45H6MHAO,Amazon PLCC Free-Financing Universal Merchant AAT-MKLXOOZWQL7GO,Amazon PLCC Free-Financing Universal Merchant AAT-CB7UNXEXGIJTC,Amazon PLCC Free-Financing Universal Merchant #MP-gzasho-1593152694811,Amazon PLCC Free-Financing Universal Merchant AAT-WLBA4GZ52EAH4',\n",
       "       'Amazon PLCC Free-Financing Universal Merchant AAT-WNKTBO3K27EJC,Amazon PLCC Free-Financing Universal Merchant AAT-QX3UCCJESKPA2,Amazon PLCC Free-Financing Universal Merchant AAT-5QQ7BIYYQEDN2,Amazon PLCC Free-Financing Universal Merchant AAT-DSJ2QRXXWXVMQ,Amazon PLCC Free-Financing Universal Merchant AAT-CXJHMC2YJUK76,Amazon PLCC Free-Financing Universal Merchant AAT-CC4FAVTYR4X7C,Amazon PLCC Free-Financing Universal Merchant AAT-EWAPBB6BDRGM6,Amazon PLCC Free-Financing Universal Merchant AAT-R7GXNZWISTRFA,Amazon PLCC Free-Financing Universal Merchant AAT-EOKPWFWYW7Y6I,Amazon PLCC Free-Financing Universal Merchant AAT-NT3ZJJGQ3JK3Q,Amazon PLCC Free-Financing Universal Merchant AAT-5SHH3G55USK5C,Amazon PLCC Free-Financing Universal Merchant AAT-TNYBHEAO7HOHO,Amazon PLCC Free-Financing Universal Merchant AAT-BRSZZ45H6MHAO,Amazon PLCC Free-Financing Universal Merchant AAT-MKLXOOZWQL7GO,Amazon PLCC Free-Financing Universal Merchant AAT-CB7UNXEXGIJTC,Amazon PLCC Free-Financing Universal Merchant #MP-gzasho-1593152694811,Amazon PLCC Free-Financing Universal Merchant AAT-WLBA4GZ52EAH4,Amazon PLCC Free-Financing Universal Merchant AAT-QMFZ3M7T5NPDS,Amazon PLCC Free-Financing Universal Merchant #MP-pmilan-1601980554292'],\n",
       "      dtype=object)"
      ]
     },
     "execution_count": 120,
     "metadata": {},
     "output_type": "execute_result"
    }
   ],
   "source": [
    "asr['Promotion_IDs'].unique()"
   ]
  },
  {
   "cell_type": "code",
   "execution_count": 136,
   "metadata": {},
   "outputs": [],
   "source": [
    "asr = asr.drop('Shipping_Country', axis = 1)"
   ]
  },
  {
   "cell_type": "code",
   "execution_count": 126,
   "metadata": {},
   "outputs": [
    {
     "name": "stdout",
     "output_type": "stream",
     "text": [
      "Amount of missing values in asr: 161445\n",
      "Amount of missing values in cwc: 60\n",
      "Amount of missing values in Expense IIGF: 24\n",
      "Amount of missing values in International sales report: 8740\n",
      "Amount of missing values in may-2022: 0\n",
      "Amount of missing values in P L march: 0\n",
      "Amount of missing values in Sales report: 281\n"
     ]
    }
   ],
   "source": [
    "print(f\"Amount of missing values in asr: {asr.isnull().sum().sum()}\")\n",
    "print(f\"Amount of missing values in cwc: {cwc.isnull().sum().sum()}\")\n",
    "print(f\"Amount of missing values in Expense IIGF: {expense.isnull().sum().sum()}\")\n",
    "print(f\"Amount of missing values in International sales report: {isr.isnull().sum().sum()}\")\n",
    "print(f\"Amount of missing values in may-2022: {may.isnull().sum().sum()}\")\n",
    "print(f\"Amount of missing values in P L march: {pl.isnull().sum().sum()}\")\n",
    "print(f\"Amount of missing values in Sales report: {sr.isnull().sum().sum()}\")"
   ]
  },
  {
   "cell_type": "code",
   "execution_count": 127,
   "metadata": {},
   "outputs": [],
   "source": [
    "asr['Fulfilled_By'] =asr['Fulfilled_By'].fillna('Other')\n"
   ]
  },
  {
   "cell_type": "code",
   "execution_count": 99,
   "metadata": {},
   "outputs": [],
   "source": [
    "asr.dropna(inplace=True)\n",
    "cwc.dropna(inplace=True)\n",
    "expense.dropna(inplace=True)\n",
    "expense.dropna(inplace=True)\n",
    "isr.dropna(inplace=True)\n",
    "sr.dropna(inplace=True)"
   ]
  },
  {
   "cell_type": "code",
   "execution_count": 138,
   "metadata": {},
   "outputs": [
    {
     "name": "stdout",
     "output_type": "stream",
     "text": [
      "Amount of missing values in asr: 71714\n",
      "Amount of missing values in cwc: 60\n",
      "Amount of missing values in Expense IIGF: 24\n",
      "Amount of missing values in International sales report: 8740\n",
      "Amount of missing values in may-2022: 0\n",
      "Amount of missing values in P L march: 0\n",
      "Amount of missing values in Sales report: 281\n"
     ]
    }
   ],
   "source": [
    "print(f\"Amount of missing values in asr: {asr.isnull().sum().sum()}\")\n",
    "print(f\"Amount of missing values in cwc: {cwc.isnull().sum().sum()}\")\n",
    "print(f\"Amount of missing values in Expense IIGF: {expense.isnull().sum().sum()}\")\n",
    "print(f\"Amount of missing values in International sales report: {isr.isnull().sum().sum()}\")\n",
    "print(f\"Amount of missing values in may-2022: {may.isnull().sum().sum()}\")\n",
    "print(f\"Amount of missing values in P L march: {pl.isnull().sum().sum()}\")\n",
    "print(f\"Amount of missing values in Sales report: {sr.isnull().sum().sum()}\")"
   ]
  },
  {
   "cell_type": "code",
   "execution_count": 117,
   "metadata": {},
   "outputs": [
    {
     "name": "stdout",
     "output_type": "stream",
     "text": [
      "(128975,)\n",
      "(50, 4)\n",
      "(17, 5)\n",
      "(37432, 10)\n",
      "(1330, 17)\n",
      "(1330, 18)\n",
      "(9271, 7)\n"
     ]
    }
   ],
   "source": [
    "print(asr.shape)\n",
    "print(cwc.shape)\n",
    "print(expense.shape)\n",
    "print(isr.shape)\n",
    "print(may.shape)\n",
    "print(pl.shape)\n",
    "print(sr.shape)"
   ]
  },
  {
   "cell_type": "code",
   "execution_count": 98,
   "metadata": {},
   "outputs": [
    {
     "data": {
      "text/html": [
       "<div>\n",
       "<style scoped>\n",
       "    .dataframe tbody tr th:only-of-type {\n",
       "        vertical-align: middle;\n",
       "    }\n",
       "\n",
       "    .dataframe tbody tr th {\n",
       "        vertical-align: top;\n",
       "    }\n",
       "\n",
       "    .dataframe thead th {\n",
       "        text-align: right;\n",
       "    }\n",
       "</style>\n",
       "<table border=\"1\" class=\"dataframe\">\n",
       "  <thead>\n",
       "    <tr style=\"text-align: right;\">\n",
       "      <th></th>\n",
       "      <th>index</th>\n",
       "      <th>Product_SKU</th>\n",
       "      <th>Design_Number</th>\n",
       "      <th>Stock_Level</th>\n",
       "      <th>Product_Category</th>\n",
       "      <th>Product_Size</th>\n",
       "      <th>Product_Color</th>\n",
       "    </tr>\n",
       "  </thead>\n",
       "  <tbody>\n",
       "    <tr>\n",
       "      <th>0</th>\n",
       "      <td>0</td>\n",
       "      <td>AN201-RED-L</td>\n",
       "      <td>AN201</td>\n",
       "      <td>5.0</td>\n",
       "      <td>AN : LEGGINGS</td>\n",
       "      <td>L</td>\n",
       "      <td>Red</td>\n",
       "    </tr>\n",
       "    <tr>\n",
       "      <th>1</th>\n",
       "      <td>1</td>\n",
       "      <td>AN201-RED-M</td>\n",
       "      <td>AN201</td>\n",
       "      <td>5.0</td>\n",
       "      <td>AN : LEGGINGS</td>\n",
       "      <td>M</td>\n",
       "      <td>Red</td>\n",
       "    </tr>\n",
       "    <tr>\n",
       "      <th>2</th>\n",
       "      <td>2</td>\n",
       "      <td>AN201-RED-S</td>\n",
       "      <td>AN201</td>\n",
       "      <td>3.0</td>\n",
       "      <td>AN : LEGGINGS</td>\n",
       "      <td>S</td>\n",
       "      <td>Red</td>\n",
       "    </tr>\n",
       "    <tr>\n",
       "      <th>3</th>\n",
       "      <td>3</td>\n",
       "      <td>AN201-RED-XL</td>\n",
       "      <td>AN201</td>\n",
       "      <td>6.0</td>\n",
       "      <td>AN : LEGGINGS</td>\n",
       "      <td>XL</td>\n",
       "      <td>Red</td>\n",
       "    </tr>\n",
       "    <tr>\n",
       "      <th>4</th>\n",
       "      <td>4</td>\n",
       "      <td>AN201-RED-XXL</td>\n",
       "      <td>AN201</td>\n",
       "      <td>3.0</td>\n",
       "      <td>AN : LEGGINGS</td>\n",
       "      <td>XXL</td>\n",
       "      <td>Red</td>\n",
       "    </tr>\n",
       "    <tr>\n",
       "      <th>...</th>\n",
       "      <td>...</td>\n",
       "      <td>...</td>\n",
       "      <td>...</td>\n",
       "      <td>...</td>\n",
       "      <td>...</td>\n",
       "      <td>...</td>\n",
       "      <td>...</td>\n",
       "    </tr>\n",
       "    <tr>\n",
       "      <th>9266</th>\n",
       "      <td>9266</td>\n",
       "      <td>NaN</td>\n",
       "      <td>NaN</td>\n",
       "      <td>NaN</td>\n",
       "      <td>NaN</td>\n",
       "      <td>NaN</td>\n",
       "      <td>NaN</td>\n",
       "    </tr>\n",
       "    <tr>\n",
       "      <th>9267</th>\n",
       "      <td>9267</td>\n",
       "      <td>NaN</td>\n",
       "      <td>NaN</td>\n",
       "      <td>NaN</td>\n",
       "      <td>NaN</td>\n",
       "      <td>NaN</td>\n",
       "      <td>NaN</td>\n",
       "    </tr>\n",
       "    <tr>\n",
       "      <th>9268</th>\n",
       "      <td>9268</td>\n",
       "      <td>NaN</td>\n",
       "      <td>NaN</td>\n",
       "      <td>NaN</td>\n",
       "      <td>NaN</td>\n",
       "      <td>NaN</td>\n",
       "      <td>NaN</td>\n",
       "    </tr>\n",
       "    <tr>\n",
       "      <th>9269</th>\n",
       "      <td>9269</td>\n",
       "      <td>NaN</td>\n",
       "      <td>NaN</td>\n",
       "      <td>NaN</td>\n",
       "      <td>NaN</td>\n",
       "      <td>NaN</td>\n",
       "      <td>NaN</td>\n",
       "    </tr>\n",
       "    <tr>\n",
       "      <th>9270</th>\n",
       "      <td>9270</td>\n",
       "      <td>NaN</td>\n",
       "      <td>NaN</td>\n",
       "      <td>NaN</td>\n",
       "      <td>NaN</td>\n",
       "      <td>NaN</td>\n",
       "      <td>NaN</td>\n",
       "    </tr>\n",
       "  </tbody>\n",
       "</table>\n",
       "<p>9271 rows × 7 columns</p>\n",
       "</div>"
      ],
      "text/plain": [
       "      index    Product_SKU Design_Number  Stock_Level Product_Category  \\\n",
       "0         0    AN201-RED-L         AN201          5.0    AN : LEGGINGS   \n",
       "1         1    AN201-RED-M         AN201          5.0    AN : LEGGINGS   \n",
       "2         2    AN201-RED-S         AN201          3.0    AN : LEGGINGS   \n",
       "3         3   AN201-RED-XL         AN201          6.0    AN : LEGGINGS   \n",
       "4         4  AN201-RED-XXL         AN201          3.0    AN : LEGGINGS   \n",
       "...     ...            ...           ...          ...              ...   \n",
       "9266   9266            NaN           NaN          NaN              NaN   \n",
       "9267   9267            NaN           NaN          NaN              NaN   \n",
       "9268   9268            NaN           NaN          NaN              NaN   \n",
       "9269   9269            NaN           NaN          NaN              NaN   \n",
       "9270   9270            NaN           NaN          NaN              NaN   \n",
       "\n",
       "     Product_Size Product_Color  \n",
       "0               L           Red  \n",
       "1               M           Red  \n",
       "2               S           Red  \n",
       "3              XL           Red  \n",
       "4             XXL           Red  \n",
       "...           ...           ...  \n",
       "9266          NaN           NaN  \n",
       "9267          NaN           NaN  \n",
       "9268          NaN           NaN  \n",
       "9269          NaN           NaN  \n",
       "9270          NaN           NaN  \n",
       "\n",
       "[9271 rows x 7 columns]"
      ]
     },
     "execution_count": 98,
     "metadata": {},
     "output_type": "execute_result"
    }
   ],
   "source": [
    "asr.drop_duplicates()\n",
    "cwc.drop_duplicates()\n",
    "expense.drop_duplicates()\n",
    "isr.drop_duplicates()\n",
    "may.drop_duplicates()\n",
    "pl.drop_duplicates()\n",
    "sr.drop_duplicates()"
   ]
  },
  {
   "cell_type": "code",
   "execution_count": 23,
   "metadata": {},
   "outputs": [
    {
     "data": {
      "text/plain": [
       "Index(['index', 'Order_ID', 'Order_Date', 'Order_Status', 'Fulfillment_Type',\n",
       "       'Sales_Channel', 'Shipping_Service_Level', 'Product_Style',\n",
       "       'Product_SKU', 'Product_Category', 'Product_Size', 'Amazon_Standard_ID',\n",
       "       'Courier_Status', 'Quantity', 'Currency', 'Sale_Amount',\n",
       "       'Shipping_City', 'Shipping_State', 'Shipping_Postal_Code',\n",
       "       'Shipping_Country', 'Promotion_IDs', 'Business_to_Business',\n",
       "       'Fulfilled_By'],\n",
       "      dtype='object')"
      ]
     },
     "execution_count": 23,
     "metadata": {},
     "output_type": "execute_result"
    }
   ],
   "source": [
    "asr.columns"
   ]
  },
  {
   "cell_type": "code",
   "execution_count": 56,
   "metadata": {},
   "outputs": [
    {
     "data": {
      "text/plain": [
       "Index(['index', 'Received_Amount', 'Unnamed: 1', 'Expense_Amount',\n",
       "       'Unnamed: 3'],\n",
       "      dtype='object')"
      ]
     },
     "execution_count": 56,
     "metadata": {},
     "output_type": "execute_result"
    }
   ],
   "source": [
    "expense.columns"
   ]
  },
  {
   "cell_type": "code",
   "execution_count": 35,
   "metadata": {},
   "outputs": [
    {
     "data": {
      "text/plain": [
       "Index(['index', 'Product_SKU', 'Product_Style_ID', 'Product_Catalog',\n",
       "       'Product_Category', 'Product_Weight', 'Transfer_Price', 'Old_MRP',\n",
       "       'Final_Old_MRP', 'Ajio_MRP', 'Amazon_MRP', 'Amazon_FBA_MRP',\n",
       "       'Flipkart_MRP', 'Limeroad_MRP', 'Myntra_MRP', 'Paytm_MRP',\n",
       "       'Snapdeal_MRP'],\n",
       "      dtype='object')"
      ]
     },
     "execution_count": 35,
     "metadata": {},
     "output_type": "execute_result"
    }
   ],
   "source": [
    "may.columns"
   ]
  },
  {
   "cell_type": "code",
   "execution_count": 36,
   "metadata": {},
   "outputs": [
    {
     "data": {
      "text/plain": [
       "Index(['index', 'Product_SKU', 'Product_Style_ID', 'Product_Catalog',\n",
       "       'Product_Category', 'Product_Weight', 'Transfer_Price_Level_1',\n",
       "       'Transfer_Price_Level_2', 'Old_MRP', 'Final_Old_MRP', 'Ajio_MRP',\n",
       "       'Amazon_MRP', 'Amazon_FBA_MRP', 'Flipkart_MRP', 'Limeroad_MRP',\n",
       "       'Myntra_MRP', 'Paytm_MRP\\n', 'Snapdeal_MRP'],\n",
       "      dtype='object')"
      ]
     },
     "execution_count": 36,
     "metadata": {},
     "output_type": "execute_result"
    }
   ],
   "source": [
    "pl.columns"
   ]
  },
  {
   "cell_type": "code",
   "execution_count": 41,
   "metadata": {},
   "outputs": [
    {
     "data": {
      "text/plain": [
       "Index(['index', 'Product_SKU', 'Design_Number', 'Stock_Level',\n",
       "       'Product_Category', 'Product_Size', 'Product_Color'],\n",
       "      dtype='object')"
      ]
     },
     "execution_count": 41,
     "metadata": {},
     "output_type": "execute_result"
    }
   ],
   "source": [
    "sr.columns"
   ]
  },
  {
   "cell_type": "code",
   "execution_count": 89,
   "metadata": {},
   "outputs": [],
   "source": [
    "maypl = pd.merge(may,pl, how = 'outer')"
   ]
  },
  {
   "cell_type": "code",
   "execution_count": 90,
   "metadata": {},
   "outputs": [
    {
     "data": {
      "text/plain": [
       "(1332, 20)"
      ]
     },
     "execution_count": 90,
     "metadata": {},
     "output_type": "execute_result"
    }
   ],
   "source": [
    "maypl.shape"
   ]
  },
  {
   "cell_type": "code",
   "execution_count": 91,
   "metadata": {},
   "outputs": [
    {
     "data": {
      "text/html": [
       "<div>\n",
       "<style scoped>\n",
       "    .dataframe tbody tr th:only-of-type {\n",
       "        vertical-align: middle;\n",
       "    }\n",
       "\n",
       "    .dataframe tbody tr th {\n",
       "        vertical-align: top;\n",
       "    }\n",
       "\n",
       "    .dataframe thead th {\n",
       "        text-align: right;\n",
       "    }\n",
       "</style>\n",
       "<table border=\"1\" class=\"dataframe\">\n",
       "  <thead>\n",
       "    <tr style=\"text-align: right;\">\n",
       "      <th></th>\n",
       "      <th>index</th>\n",
       "      <th>Product_SKU</th>\n",
       "      <th>Product_Style_ID</th>\n",
       "      <th>Product_Catalog</th>\n",
       "      <th>Product_Category</th>\n",
       "      <th>Product_Weight</th>\n",
       "      <th>Transfer_Price</th>\n",
       "      <th>Old_MRP</th>\n",
       "      <th>Final_Old_MRP</th>\n",
       "      <th>Ajio_MRP</th>\n",
       "      <th>Amazon_MRP</th>\n",
       "      <th>Amazon_FBA_MRP</th>\n",
       "      <th>Flipkart_MRP</th>\n",
       "      <th>Limeroad_MRP</th>\n",
       "      <th>Myntra_MRP</th>\n",
       "      <th>Paytm_MRP</th>\n",
       "      <th>Snapdeal_MRP</th>\n",
       "      <th>Transfer_Price_Level_1</th>\n",
       "      <th>Transfer_Price_Level_2</th>\n",
       "      <th>Paytm_MRP\\n</th>\n",
       "    </tr>\n",
       "  </thead>\n",
       "  <tbody>\n",
       "    <tr>\n",
       "      <th>0</th>\n",
       "      <td>0</td>\n",
       "      <td>Os206_3141_S</td>\n",
       "      <td>Os206_3141</td>\n",
       "      <td>Moments</td>\n",
       "      <td>Kurta</td>\n",
       "      <td>0.3</td>\n",
       "      <td>538</td>\n",
       "      <td>2178</td>\n",
       "      <td>2295</td>\n",
       "      <td>2295</td>\n",
       "      <td>2295</td>\n",
       "      <td>2295</td>\n",
       "      <td>2295</td>\n",
       "      <td>2295</td>\n",
       "      <td>2295</td>\n",
       "      <td>2295</td>\n",
       "      <td>2295</td>\n",
       "      <td>538</td>\n",
       "      <td>435.78</td>\n",
       "      <td>2295</td>\n",
       "    </tr>\n",
       "    <tr>\n",
       "      <th>1</th>\n",
       "      <td>1</td>\n",
       "      <td>Os206_3141_M</td>\n",
       "      <td>Os206_3141</td>\n",
       "      <td>Moments</td>\n",
       "      <td>Kurta</td>\n",
       "      <td>0.3</td>\n",
       "      <td>538</td>\n",
       "      <td>2178</td>\n",
       "      <td>2295</td>\n",
       "      <td>2295</td>\n",
       "      <td>2295</td>\n",
       "      <td>2295</td>\n",
       "      <td>2295</td>\n",
       "      <td>2295</td>\n",
       "      <td>2295</td>\n",
       "      <td>2295</td>\n",
       "      <td>2295</td>\n",
       "      <td>538</td>\n",
       "      <td>435.78</td>\n",
       "      <td>2295</td>\n",
       "    </tr>\n",
       "    <tr>\n",
       "      <th>2</th>\n",
       "      <td>2</td>\n",
       "      <td>Os206_3141_L</td>\n",
       "      <td>Os206_3141</td>\n",
       "      <td>Moments</td>\n",
       "      <td>Kurta</td>\n",
       "      <td>0.3</td>\n",
       "      <td>538</td>\n",
       "      <td>2178</td>\n",
       "      <td>2295</td>\n",
       "      <td>2295</td>\n",
       "      <td>2295</td>\n",
       "      <td>2295</td>\n",
       "      <td>2295</td>\n",
       "      <td>2295</td>\n",
       "      <td>2295</td>\n",
       "      <td>2295</td>\n",
       "      <td>2295</td>\n",
       "      <td>538</td>\n",
       "      <td>435.78</td>\n",
       "      <td>2295</td>\n",
       "    </tr>\n",
       "    <tr>\n",
       "      <th>3</th>\n",
       "      <td>3</td>\n",
       "      <td>Os206_3141_XL</td>\n",
       "      <td>Os206_3141</td>\n",
       "      <td>Moments</td>\n",
       "      <td>Kurta</td>\n",
       "      <td>0.3</td>\n",
       "      <td>538</td>\n",
       "      <td>2178</td>\n",
       "      <td>2295</td>\n",
       "      <td>2295</td>\n",
       "      <td>2295</td>\n",
       "      <td>2295</td>\n",
       "      <td>2295</td>\n",
       "      <td>2295</td>\n",
       "      <td>2295</td>\n",
       "      <td>2295</td>\n",
       "      <td>2295</td>\n",
       "      <td>538</td>\n",
       "      <td>435.78</td>\n",
       "      <td>2295</td>\n",
       "    </tr>\n",
       "    <tr>\n",
       "      <th>4</th>\n",
       "      <td>4</td>\n",
       "      <td>Os206_3141_2XL</td>\n",
       "      <td>Os206_3141</td>\n",
       "      <td>Moments</td>\n",
       "      <td>Kurta</td>\n",
       "      <td>0.3</td>\n",
       "      <td>538</td>\n",
       "      <td>2178</td>\n",
       "      <td>2295</td>\n",
       "      <td>2295</td>\n",
       "      <td>2295</td>\n",
       "      <td>2295</td>\n",
       "      <td>2295</td>\n",
       "      <td>2295</td>\n",
       "      <td>2295</td>\n",
       "      <td>2295</td>\n",
       "      <td>2295</td>\n",
       "      <td>538</td>\n",
       "      <td>435.78</td>\n",
       "      <td>2295</td>\n",
       "    </tr>\n",
       "  </tbody>\n",
       "</table>\n",
       "</div>"
      ],
      "text/plain": [
       "   index     Product_SKU Product_Style_ID Product_Catalog Product_Category  \\\n",
       "0      0    Os206_3141_S       Os206_3141         Moments            Kurta   \n",
       "1      1    Os206_3141_M       Os206_3141         Moments            Kurta   \n",
       "2      2    Os206_3141_L       Os206_3141         Moments            Kurta   \n",
       "3      3   Os206_3141_XL       Os206_3141         Moments            Kurta   \n",
       "4      4  Os206_3141_2XL       Os206_3141         Moments            Kurta   \n",
       "\n",
       "  Product_Weight Transfer_Price Old_MRP Final_Old_MRP Ajio_MRP Amazon_MRP  \\\n",
       "0            0.3            538    2178          2295     2295       2295   \n",
       "1            0.3            538    2178          2295     2295       2295   \n",
       "2            0.3            538    2178          2295     2295       2295   \n",
       "3            0.3            538    2178          2295     2295       2295   \n",
       "4            0.3            538    2178          2295     2295       2295   \n",
       "\n",
       "  Amazon_FBA_MRP Flipkart_MRP Limeroad_MRP Myntra_MRP Paytm_MRP Snapdeal_MRP  \\\n",
       "0           2295         2295         2295       2295      2295         2295   \n",
       "1           2295         2295         2295       2295      2295         2295   \n",
       "2           2295         2295         2295       2295      2295         2295   \n",
       "3           2295         2295         2295       2295      2295         2295   \n",
       "4           2295         2295         2295       2295      2295         2295   \n",
       "\n",
       "  Transfer_Price_Level_1 Transfer_Price_Level_2 Paytm_MRP\\n  \n",
       "0                    538                 435.78        2295  \n",
       "1                    538                 435.78        2295  \n",
       "2                    538                 435.78        2295  \n",
       "3                    538                 435.78        2295  \n",
       "4                    538                 435.78        2295  "
      ]
     },
     "execution_count": 91,
     "metadata": {},
     "output_type": "execute_result"
    }
   ],
   "source": [
    "maypl.head()"
   ]
  },
  {
   "cell_type": "code",
   "execution_count": 92,
   "metadata": {},
   "outputs": [
    {
     "data": {
      "text/plain": [
       "Index(['index', 'Product_SKU', 'Product_Style_ID', 'Product_Catalog',\n",
       "       'Product_Category', 'Product_Weight', 'Transfer_Price', 'Old_MRP',\n",
       "       'Final_Old_MRP', 'Ajio_MRP', 'Amazon_MRP', 'Amazon_FBA_MRP',\n",
       "       'Flipkart_MRP', 'Limeroad_MRP', 'Myntra_MRP', 'Paytm_MRP',\n",
       "       'Snapdeal_MRP', 'Transfer_Price_Level_1', 'Transfer_Price_Level_2',\n",
       "       'Paytm_MRP\\n'],\n",
       "      dtype='object')"
      ]
     },
     "execution_count": 92,
     "metadata": {},
     "output_type": "execute_result"
    }
   ],
   "source": [
    "maypl.columns"
   ]
  },
  {
   "cell_type": "code",
   "execution_count": null,
   "metadata": {},
   "outputs": [
    {
     "data": {
      "text/html": [
       "<div>\n",
       "<style scoped>\n",
       "    .dataframe tbody tr th:only-of-type {\n",
       "        vertical-align: middle;\n",
       "    }\n",
       "\n",
       "    .dataframe tbody tr th {\n",
       "        vertical-align: top;\n",
       "    }\n",
       "\n",
       "    .dataframe thead th {\n",
       "        text-align: right;\n",
       "    }\n",
       "</style>\n",
       "<table border=\"1\" class=\"dataframe\">\n",
       "  <thead>\n",
       "    <tr style=\"text-align: right;\">\n",
       "      <th></th>\n",
       "      <th>index</th>\n",
       "      <th>Product_SKU</th>\n",
       "      <th>Product_Style_ID</th>\n",
       "      <th>Product_Catalog</th>\n",
       "      <th>Product_Category</th>\n",
       "      <th>Product_Weight</th>\n",
       "      <th>Transfer_Price</th>\n",
       "      <th>Old_MRP</th>\n",
       "      <th>Final_Old_MRP</th>\n",
       "      <th>Ajio_MRP</th>\n",
       "      <th>Amazon_MRP</th>\n",
       "      <th>Amazon_FBA_MRP</th>\n",
       "      <th>Flipkart_MRP</th>\n",
       "      <th>Limeroad_MRP</th>\n",
       "      <th>Myntra_MRP</th>\n",
       "      <th>Paytm_MRP</th>\n",
       "      <th>Snapdeal_MRP</th>\n",
       "      <th>Transfer_Price_Level_1</th>\n",
       "      <th>Transfer_Price_Level_2</th>\n",
       "      <th>Paytm_MRP\\n</th>\n",
       "    </tr>\n",
       "  </thead>\n",
       "  <tbody>\n",
       "    <tr>\n",
       "      <th>0</th>\n",
       "      <td>0</td>\n",
       "      <td>Os206_3141_S</td>\n",
       "      <td>Os206_3141</td>\n",
       "      <td>Moments</td>\n",
       "      <td>Kurta</td>\n",
       "      <td>0.3</td>\n",
       "      <td>538</td>\n",
       "      <td>2178</td>\n",
       "      <td>2295</td>\n",
       "      <td>2295</td>\n",
       "      <td>2295</td>\n",
       "      <td>2295</td>\n",
       "      <td>2295</td>\n",
       "      <td>2295</td>\n",
       "      <td>2295</td>\n",
       "      <td>2295</td>\n",
       "      <td>2295</td>\n",
       "      <td>NaN</td>\n",
       "      <td>NaN</td>\n",
       "      <td>NaN</td>\n",
       "    </tr>\n",
       "    <tr>\n",
       "      <th>1</th>\n",
       "      <td>1</td>\n",
       "      <td>Os206_3141_M</td>\n",
       "      <td>Os206_3141</td>\n",
       "      <td>Moments</td>\n",
       "      <td>Kurta</td>\n",
       "      <td>0.3</td>\n",
       "      <td>538</td>\n",
       "      <td>2178</td>\n",
       "      <td>2295</td>\n",
       "      <td>2295</td>\n",
       "      <td>2295</td>\n",
       "      <td>2295</td>\n",
       "      <td>2295</td>\n",
       "      <td>2295</td>\n",
       "      <td>2295</td>\n",
       "      <td>2295</td>\n",
       "      <td>2295</td>\n",
       "      <td>NaN</td>\n",
       "      <td>NaN</td>\n",
       "      <td>NaN</td>\n",
       "    </tr>\n",
       "    <tr>\n",
       "      <th>2</th>\n",
       "      <td>2</td>\n",
       "      <td>Os206_3141_L</td>\n",
       "      <td>Os206_3141</td>\n",
       "      <td>Moments</td>\n",
       "      <td>Kurta</td>\n",
       "      <td>0.3</td>\n",
       "      <td>538</td>\n",
       "      <td>2178</td>\n",
       "      <td>2295</td>\n",
       "      <td>2295</td>\n",
       "      <td>2295</td>\n",
       "      <td>2295</td>\n",
       "      <td>2295</td>\n",
       "      <td>2295</td>\n",
       "      <td>2295</td>\n",
       "      <td>2295</td>\n",
       "      <td>2295</td>\n",
       "      <td>NaN</td>\n",
       "      <td>NaN</td>\n",
       "      <td>NaN</td>\n",
       "    </tr>\n",
       "    <tr>\n",
       "      <th>3</th>\n",
       "      <td>3</td>\n",
       "      <td>Os206_3141_XL</td>\n",
       "      <td>Os206_3141</td>\n",
       "      <td>Moments</td>\n",
       "      <td>Kurta</td>\n",
       "      <td>0.3</td>\n",
       "      <td>538</td>\n",
       "      <td>2178</td>\n",
       "      <td>2295</td>\n",
       "      <td>2295</td>\n",
       "      <td>2295</td>\n",
       "      <td>2295</td>\n",
       "      <td>2295</td>\n",
       "      <td>2295</td>\n",
       "      <td>2295</td>\n",
       "      <td>2295</td>\n",
       "      <td>2295</td>\n",
       "      <td>NaN</td>\n",
       "      <td>NaN</td>\n",
       "      <td>NaN</td>\n",
       "    </tr>\n",
       "    <tr>\n",
       "      <th>4</th>\n",
       "      <td>4</td>\n",
       "      <td>Os206_3141_2XL</td>\n",
       "      <td>Os206_3141</td>\n",
       "      <td>Moments</td>\n",
       "      <td>Kurta</td>\n",
       "      <td>0.3</td>\n",
       "      <td>538</td>\n",
       "      <td>2178</td>\n",
       "      <td>2295</td>\n",
       "      <td>2295</td>\n",
       "      <td>2295</td>\n",
       "      <td>2295</td>\n",
       "      <td>2295</td>\n",
       "      <td>2295</td>\n",
       "      <td>2295</td>\n",
       "      <td>2295</td>\n",
       "      <td>2295</td>\n",
       "      <td>NaN</td>\n",
       "      <td>NaN</td>\n",
       "      <td>NaN</td>\n",
       "    </tr>\n",
       "    <tr>\n",
       "      <th>...</th>\n",
       "      <td>...</td>\n",
       "      <td>...</td>\n",
       "      <td>...</td>\n",
       "      <td>...</td>\n",
       "      <td>...</td>\n",
       "      <td>...</td>\n",
       "      <td>...</td>\n",
       "      <td>...</td>\n",
       "      <td>...</td>\n",
       "      <td>...</td>\n",
       "      <td>...</td>\n",
       "      <td>...</td>\n",
       "      <td>...</td>\n",
       "      <td>...</td>\n",
       "      <td>...</td>\n",
       "      <td>...</td>\n",
       "      <td>...</td>\n",
       "      <td>...</td>\n",
       "      <td>...</td>\n",
       "      <td>...</td>\n",
       "    </tr>\n",
       "    <tr>\n",
       "      <th>2655</th>\n",
       "      <td>1325</td>\n",
       "      <td>Os326_M</td>\n",
       "      <td>Os326</td>\n",
       "      <td>Mix</td>\n",
       "      <td>Kurta</td>\n",
       "      <td>0.3</td>\n",
       "      <td>NaN</td>\n",
       "      <td>1878</td>\n",
       "      <td>1995</td>\n",
       "      <td>1995</td>\n",
       "      <td>1995</td>\n",
       "      <td>1995</td>\n",
       "      <td>1995</td>\n",
       "      <td>1995</td>\n",
       "      <td>1995</td>\n",
       "      <td>NaN</td>\n",
       "      <td>1995</td>\n",
       "      <td>467</td>\n",
       "      <td>378.27</td>\n",
       "      <td>1995</td>\n",
       "    </tr>\n",
       "    <tr>\n",
       "      <th>2656</th>\n",
       "      <td>1326</td>\n",
       "      <td>Os326_L</td>\n",
       "      <td>Os326</td>\n",
       "      <td>Mix</td>\n",
       "      <td>Kurta</td>\n",
       "      <td>0.3</td>\n",
       "      <td>NaN</td>\n",
       "      <td>1878</td>\n",
       "      <td>1995</td>\n",
       "      <td>1995</td>\n",
       "      <td>1995</td>\n",
       "      <td>1995</td>\n",
       "      <td>1995</td>\n",
       "      <td>1995</td>\n",
       "      <td>1995</td>\n",
       "      <td>NaN</td>\n",
       "      <td>1995</td>\n",
       "      <td>467</td>\n",
       "      <td>378.27</td>\n",
       "      <td>1995</td>\n",
       "    </tr>\n",
       "    <tr>\n",
       "      <th>2657</th>\n",
       "      <td>1327</td>\n",
       "      <td>Os326_XL</td>\n",
       "      <td>Os326</td>\n",
       "      <td>Mix</td>\n",
       "      <td>Kurta</td>\n",
       "      <td>0.3</td>\n",
       "      <td>NaN</td>\n",
       "      <td>1878</td>\n",
       "      <td>1995</td>\n",
       "      <td>1995</td>\n",
       "      <td>1995</td>\n",
       "      <td>1995</td>\n",
       "      <td>1995</td>\n",
       "      <td>1995</td>\n",
       "      <td>1995</td>\n",
       "      <td>NaN</td>\n",
       "      <td>1995</td>\n",
       "      <td>467</td>\n",
       "      <td>378.27</td>\n",
       "      <td>1995</td>\n",
       "    </tr>\n",
       "    <tr>\n",
       "      <th>2658</th>\n",
       "      <td>1328</td>\n",
       "      <td>Os326_2XL</td>\n",
       "      <td>Os326</td>\n",
       "      <td>Mix</td>\n",
       "      <td>Kurta</td>\n",
       "      <td>0.3</td>\n",
       "      <td>NaN</td>\n",
       "      <td>1878</td>\n",
       "      <td>1995</td>\n",
       "      <td>1995</td>\n",
       "      <td>1995</td>\n",
       "      <td>1995</td>\n",
       "      <td>1995</td>\n",
       "      <td>1995</td>\n",
       "      <td>1995</td>\n",
       "      <td>NaN</td>\n",
       "      <td>1995</td>\n",
       "      <td>467</td>\n",
       "      <td>378.27</td>\n",
       "      <td>1995</td>\n",
       "    </tr>\n",
       "    <tr>\n",
       "      <th>2659</th>\n",
       "      <td>1329</td>\n",
       "      <td>Os326_3XL</td>\n",
       "      <td>Os326</td>\n",
       "      <td>Mix</td>\n",
       "      <td>Kurta</td>\n",
       "      <td>0.3</td>\n",
       "      <td>NaN</td>\n",
       "      <td>1878</td>\n",
       "      <td>1995</td>\n",
       "      <td>1995</td>\n",
       "      <td>1995</td>\n",
       "      <td>1995</td>\n",
       "      <td>1995</td>\n",
       "      <td>1995</td>\n",
       "      <td>1995</td>\n",
       "      <td>NaN</td>\n",
       "      <td>1995</td>\n",
       "      <td>467</td>\n",
       "      <td>378.27</td>\n",
       "      <td>1995</td>\n",
       "    </tr>\n",
       "  </tbody>\n",
       "</table>\n",
       "<p>2660 rows × 20 columns</p>\n",
       "</div>"
      ],
      "text/plain": [
       "      index     Product_SKU Product_Style_ID Product_Catalog Product_Category  \\\n",
       "0         0    Os206_3141_S       Os206_3141         Moments            Kurta   \n",
       "1         1    Os206_3141_M       Os206_3141         Moments            Kurta   \n",
       "2         2    Os206_3141_L       Os206_3141         Moments            Kurta   \n",
       "3         3   Os206_3141_XL       Os206_3141         Moments            Kurta   \n",
       "4         4  Os206_3141_2XL       Os206_3141         Moments            Kurta   \n",
       "...     ...             ...              ...             ...              ...   \n",
       "2655   1325         Os326_M            Os326             Mix            Kurta   \n",
       "2656   1326         Os326_L            Os326             Mix            Kurta   \n",
       "2657   1327        Os326_XL            Os326             Mix            Kurta   \n",
       "2658   1328       Os326_2XL            Os326             Mix            Kurta   \n",
       "2659   1329       Os326_3XL            Os326             Mix            Kurta   \n",
       "\n",
       "     Product_Weight Transfer_Price Old_MRP Final_Old_MRP Ajio_MRP Amazon_MRP  \\\n",
       "0               0.3            538    2178          2295     2295       2295   \n",
       "1               0.3            538    2178          2295     2295       2295   \n",
       "2               0.3            538    2178          2295     2295       2295   \n",
       "3               0.3            538    2178          2295     2295       2295   \n",
       "4               0.3            538    2178          2295     2295       2295   \n",
       "...             ...            ...     ...           ...      ...        ...   \n",
       "2655            0.3            NaN    1878          1995     1995       1995   \n",
       "2656            0.3            NaN    1878          1995     1995       1995   \n",
       "2657            0.3            NaN    1878          1995     1995       1995   \n",
       "2658            0.3            NaN    1878          1995     1995       1995   \n",
       "2659            0.3            NaN    1878          1995     1995       1995   \n",
       "\n",
       "     Amazon_FBA_MRP Flipkart_MRP Limeroad_MRP Myntra_MRP Paytm_MRP  \\\n",
       "0              2295         2295         2295       2295      2295   \n",
       "1              2295         2295         2295       2295      2295   \n",
       "2              2295         2295         2295       2295      2295   \n",
       "3              2295         2295         2295       2295      2295   \n",
       "4              2295         2295         2295       2295      2295   \n",
       "...             ...          ...          ...        ...       ...   \n",
       "2655           1995         1995         1995       1995       NaN   \n",
       "2656           1995         1995         1995       1995       NaN   \n",
       "2657           1995         1995         1995       1995       NaN   \n",
       "2658           1995         1995         1995       1995       NaN   \n",
       "2659           1995         1995         1995       1995       NaN   \n",
       "\n",
       "     Snapdeal_MRP Transfer_Price_Level_1 Transfer_Price_Level_2 Paytm_MRP\\n  \n",
       "0            2295                    NaN                    NaN         NaN  \n",
       "1            2295                    NaN                    NaN         NaN  \n",
       "2            2295                    NaN                    NaN         NaN  \n",
       "3            2295                    NaN                    NaN         NaN  \n",
       "4            2295                    NaN                    NaN         NaN  \n",
       "...           ...                    ...                    ...         ...  \n",
       "2655         1995                    467                 378.27        1995  \n",
       "2656         1995                    467                 378.27        1995  \n",
       "2657         1995                    467                 378.27        1995  \n",
       "2658         1995                    467                 378.27        1995  \n",
       "2659         1995                    467                 378.27        1995  \n",
       "\n",
       "[2660 rows x 20 columns]"
      ]
     },
     "execution_count": 101,
     "metadata": {},
     "output_type": "execute_result"
    }
   ],
   "source": []
  },
  {
   "cell_type": "code",
   "execution_count": null,
   "metadata": {},
   "outputs": [
    {
     "data": {
      "text/plain": [
       "(1332, 20)"
      ]
     },
     "execution_count": 103,
     "metadata": {},
     "output_type": "execute_result"
    }
   ],
   "source": []
  },
  {
   "cell_type": "code",
   "execution_count": null,
   "metadata": {},
   "outputs": [],
   "source": []
  }
 ],
 "metadata": {
  "kernelspec": {
   "display_name": "Python 3",
   "language": "python",
   "name": "python3"
  },
  "language_info": {
   "codemirror_mode": {
    "name": "ipython",
    "version": 3
   },
   "file_extension": ".py",
   "mimetype": "text/x-python",
   "name": "python",
   "nbconvert_exporter": "python",
   "pygments_lexer": "ipython3",
   "version": "3.11.0"
  }
 },
 "nbformat": 4,
 "nbformat_minor": 2
}
